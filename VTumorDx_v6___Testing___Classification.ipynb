{
  "nbformat": 4,
  "nbformat_minor": 0,
  "metadata": {
    "colab": {
      "provenance": []
    },
    "kernelspec": {
      "name": "python3",
      "display_name": "Python 3"
    },
    "language_info": {
      "name": "python"
    },
    "accelerator": "GPU",
    "gpuClass": "standard"
  },
  "cells": [
    {
      "cell_type": "code",
      "source": [
        "import os\n",
        "from sklearn.metrics import confusion_matrix, classification_report\n",
        "import cv2 as cv\n",
        "import numpy as np"
      ],
      "metadata": {
        "id": "NFfNmQ2UbGof"
      },
      "execution_count": null,
      "outputs": []
    },
    {
      "cell_type": "code",
      "execution_count": null,
      "metadata": {
        "id": "PZiQNm2YD1CO"
      },
      "outputs": [],
      "source": [
        "from tensorflow.keras.models import load_model"
      ]
    },
    {
      "cell_type": "code",
      "source": [
        "from google.colab import drive\n",
        "drive.mount(\"/content/drive\")"
      ],
      "metadata": {
        "colab": {
          "base_uri": "https://localhost:8080/"
        },
        "id": "lOl5COoIUd3x",
        "outputId": "66e3e09e-83f6-4058-e6f0-62c2aa731dc5"
      },
      "execution_count": null,
      "outputs": [
        {
          "output_type": "stream",
          "name": "stdout",
          "text": [
            "Mounted at /content/drive\n"
          ]
        }
      ]
    },
    {
      "cell_type": "code",
      "source": [
        "%cd /content/drive/MyDrive/"
      ],
      "metadata": {
        "colab": {
          "base_uri": "https://localhost:8080/"
        },
        "id": "35vpJ4JxU80M",
        "outputId": "bc944c7d-5818-4c7a-ecdd-ae94ba0c6736"
      },
      "execution_count": null,
      "outputs": [
        {
          "output_type": "stream",
          "name": "stdout",
          "text": [
            "/content/drive/MyDrive\n"
          ]
        }
      ]
    },
    {
      "cell_type": "code",
      "source": [
        "%cd FYP"
      ],
      "metadata": {
        "colab": {
          "base_uri": "https://localhost:8080/"
        },
        "id": "pDv78YbDVCHR",
        "outputId": "2484649c-bcd3-42db-aa62-b4e1c3441162"
      },
      "execution_count": null,
      "outputs": [
        {
          "output_type": "stream",
          "name": "stdout",
          "text": [
            "/content/drive/MyDrive/FYP\n"
          ]
        }
      ]
    },
    {
      "cell_type": "code",
      "source": [
        "%ls"
      ],
      "metadata": {
        "colab": {
          "base_uri": "https://localhost:8080/"
        },
        "id": "CaZb-u_dVGJJ",
        "outputId": "1cf662cb-51e8-46c0-d3e9-9a1243a9b119"
      },
      "execution_count": null,
      "outputs": [
        {
          "output_type": "stream",
          "name": "stdout",
          "text": [
            " \u001b[0m\u001b[01;34mDatasets\u001b[0m/  \u001b[01;34m'Saved Results'\u001b[0m/  \u001b[01;34m'Testing Datasets'\u001b[0m/\n"
          ]
        }
      ]
    },
    {
      "cell_type": "code",
      "source": [
        "%cd 'Saved Results'"
      ],
      "metadata": {
        "colab": {
          "base_uri": "https://localhost:8080/"
        },
        "id": "JI9T99Q_VH5w",
        "outputId": "e335f292-b05c-40c6-f16e-d87a9ea76a26"
      },
      "execution_count": null,
      "outputs": [
        {
          "output_type": "stream",
          "name": "stdout",
          "text": [
            "/content/drive/MyDrive/FYP/Saved Results\n"
          ]
        }
      ]
    },
    {
      "cell_type": "code",
      "source": [
        "%ls"
      ],
      "metadata": {
        "colab": {
          "base_uri": "https://localhost:8080/"
        },
        "id": "Gwlsc7FKVblW",
        "outputId": "e930fcf9-52ac-4d81-c09c-b830acb9d516"
      },
      "execution_count": null,
      "outputs": [
        {
          "output_type": "stream",
          "name": "stdout",
          "text": [
            "ContrastImage_EfficientNetB4_20.h5\n",
            "DenseNet121_20_10.h5\n",
            "\u001b[0m\u001b[01;34mDenseNet121_20_10_retraining__epochs\u001b[0m/\n",
            "DenseNet121_20.h5\n",
            "\u001b[01;34mDenseNet121_training_20_epochs\u001b[0m/\n",
            "EfficientNetB4_20_10_10.h5\n",
            "\u001b[01;34mEfficientNetB4_20_10_10_retraining__epochs\u001b[0m/\n",
            "EfficientNetB4_20_10.h5\n",
            "\u001b[01;34mEfficientNetB4_20_10_retraining__epochs\u001b[0m/\n",
            "EfficientNetB4_20.h5\n",
            "\u001b[01;34mEfficientNetB4_20_retraining_10_epochs\u001b[0m/\n",
            "\u001b[01;34mEfficientNetB4_training_20_epochs\u001b[0m/\n",
            "InceptionV3_20.h5\n",
            "\u001b[01;34mInceptionV3_training_20_epochs\u001b[0m/\n",
            "MobileNetV2_20.h5\n",
            "\u001b[01;34mMobileNetV2_training_20_epochs\u001b[0m/\n",
            "ResNet50_20_10.h5\n",
            "\u001b[01;34mResNet50_20_10_retraining__epochs\u001b[0m/\n",
            "ResNet50_20.h5\n",
            "\u001b[01;34mResNet50_training_20_epochs\u001b[0m/\n"
          ]
        }
      ]
    },
    {
      "cell_type": "markdown",
      "source": [
        "**Loading Models**"
      ],
      "metadata": {
        "id": "-Aos52jdWuJh"
      }
    },
    {
      "cell_type": "code",
      "source": [
        "EfficientNetB4 = load_model('EfficientNetB4_20_10_10.h5')"
      ],
      "metadata": {
        "id": "Lj83BDkLZPxF"
      },
      "execution_count": null,
      "outputs": []
    },
    {
      "cell_type": "code",
      "source": [
        "# EfficientNetB4 = load_model('EfficientNetB4_20.h5')\n",
        "# DenseNet121 = load_model('DenseNet121_20.h5')\n",
        "# InceptionV3 = load_model('InceptionV3_20.h5')\n",
        "# MobileNetV2 = load_model('MobileNetV2_20.h5')\n",
        "# ResNet50 = load_model('ResNet50_20.h5')"
      ],
      "metadata": {
        "id": "C8UyNB3jUo9a"
      },
      "execution_count": null,
      "outputs": []
    },
    {
      "cell_type": "markdown",
      "source": [
        "**Loading Old models**"
      ],
      "metadata": {
        "id": "-aWgoeOWKycc"
      }
    },
    {
      "cell_type": "code",
      "source": [
        "%ls /content/drive/MyDrive/FYP_Saved_Models/"
      ],
      "metadata": {
        "colab": {
          "base_uri": "https://localhost:8080/"
        },
        "id": "89Bp3uQTLIEi",
        "outputId": "ab4cc55e-1c11-4cd5-b3dd-5bcb5f53fc50"
      },
      "execution_count": null,
      "outputs": [
        {
          "output_type": "stream",
          "name": "stdout",
          "text": [
            "model_30_epochs.h5       \u001b[0m\u001b[01;34mtraining_50_epochs\u001b[0m/\n",
            "new_model_30_epochs.h5   VTumorDx_v5_10_epochs.h5\n",
            "\u001b[01;34mnew_training_30_epochs\u001b[0m/  VTumorDx_v5.2_10_epochs.h5\n",
            "\u001b[01;34mtraining_1\u001b[0m/              \u001b[01;34mVTumorDx_v5.2_training_10_epochs\u001b[0m/\n",
            "\u001b[01;34mtraining_2\u001b[0m/              \u001b[01;34mVTumorDx_v5_training_10_epochs\u001b[0m/\n",
            "\u001b[01;34mtraining_30_epochs\u001b[0m/\n"
          ]
        }
      ]
    },
    {
      "cell_type": "code",
      "source": [
        "# mymodel = load_model(\"/content/drive/MyDrive/FYP_Saved_Models/VTumorDx_v5_10_epochs.h5\")"
      ],
      "metadata": {
        "id": "ZDm9iplkK0uo"
      },
      "execution_count": null,
      "outputs": []
    },
    {
      "cell_type": "markdown",
      "source": [
        "**Loading Images**"
      ],
      "metadata": {
        "id": "bp56ckY8WwWQ"
      }
    },
    {
      "cell_type": "code",
      "source": [
        "%cd /content/drive/MyDrive/FYP/Testing\\ Datasets/"
      ],
      "metadata": {
        "colab": {
          "base_uri": "https://localhost:8080/"
        },
        "id": "tEUMWRZ9V38l",
        "outputId": "84042e5c-4cc9-4cb0-cbe8-aa74aad16c52"
      },
      "execution_count": null,
      "outputs": [
        {
          "output_type": "stream",
          "name": "stdout",
          "text": [
            "/content/drive/MyDrive/FYP/Testing Datasets\n"
          ]
        }
      ]
    },
    {
      "cell_type": "code",
      "source": [
        "%ls"
      ],
      "metadata": {
        "colab": {
          "base_uri": "https://localhost:8080/"
        },
        "id": "ZrREyR7PW616",
        "outputId": "6b44a7f2-f44c-4b44-c666-e7904a51fab9"
      },
      "execution_count": null,
      "outputs": [
        {
          "output_type": "stream",
          "name": "stdout",
          "text": [
            "\u001b[0m\u001b[01;34mBr35H_No\u001b[0m/  \u001b[01;34mKM\u001b[0m/  \u001b[01;34mMP\u001b[0m/\n"
          ]
        }
      ]
    },
    {
      "cell_type": "code",
      "source": [
        "%ls Br35H_No/"
      ],
      "metadata": {
        "colab": {
          "base_uri": "https://localhost:8080/"
        },
        "id": "yb-yPyaSXubk",
        "outputId": "f69a38fb-f861-458e-83fa-2c026dbb4f31"
      },
      "execution_count": null,
      "outputs": [
        {
          "output_type": "stream",
          "name": "stdout",
          "text": [
            "\u001b[0m\u001b[01;34mno_tumor\u001b[0m/\n"
          ]
        }
      ]
    },
    {
      "cell_type": "code",
      "source": [
        "%ls KM/Testing"
      ],
      "metadata": {
        "colab": {
          "base_uri": "https://localhost:8080/"
        },
        "id": "RKzEZ4gNXxR1",
        "outputId": "1a35cc8c-8ad7-489c-81fd-7fbe280ba686"
      },
      "execution_count": null,
      "outputs": [
        {
          "output_type": "stream",
          "name": "stdout",
          "text": [
            "\u001b[0m\u001b[01;34mglioma\u001b[0m/  \u001b[01;34mmeningioma\u001b[0m/  \u001b[01;34mpituitary\u001b[0m/\n"
          ]
        }
      ]
    },
    {
      "cell_type": "code",
      "source": [
        "%ls MP/Testing"
      ],
      "metadata": {
        "colab": {
          "base_uri": "https://localhost:8080/"
        },
        "id": "LnFqhsmnX1M4",
        "outputId": "a9ea20cf-6945-49c8-b975-4f2136b65bee"
      },
      "execution_count": null,
      "outputs": [
        {
          "output_type": "stream",
          "name": "stdout",
          "text": [
            "\u001b[0m\u001b[01;34mglioma\u001b[0m/  \u001b[01;34mmeningioma\u001b[0m/  \u001b[01;34mno_tumor\u001b[0m/  \u001b[01;34mpituitary\u001b[0m/\n"
          ]
        }
      ]
    },
    {
      "cell_type": "code",
      "source": [
        "IMAGES = []\n",
        "IMAGES_LABELS = []"
      ],
      "metadata": {
        "id": "rl5HGG00XoyB"
      },
      "execution_count": null,
      "outputs": []
    },
    {
      "cell_type": "code",
      "source": [
        "PATH = \"/content/drive/MyDrive/FYP/Testing Datasets/\"\n",
        "\n",
        "PATHS = [\n",
        "    \"Br35H_No/\",\n",
        "    \"KM/Training\",\n",
        "    \"KM/Testing\",\n",
        "    \"MP/Training\",\n",
        "    \"MP/Testing\"\n",
        "]"
      ],
      "metadata": {
        "id": "44fE5XRbXsxA"
      },
      "execution_count": null,
      "outputs": []
    },
    {
      "cell_type": "code",
      "source": [
        "for p in PATHS:\n",
        "  mypath = PATH + p\n",
        "  for subdirectory in os.listdir(mypath):\n",
        "    for images in os.listdir(mypath + \"/\" + subdirectory):\n",
        "      img = cv.imread(mypath + \"/\" + subdirectory + \"/\" + images)\n",
        "      img = cv.resize(img, (128, 128))\n",
        "      IMAGES.append(img)\n",
        "      IMAGES_LABELS.append(subdirectory)"
      ],
      "metadata": {
        "id": "pKci_3epa2Qv"
      },
      "execution_count": null,
      "outputs": []
    },
    {
      "cell_type": "code",
      "source": [
        "images, images_labels = np.array(IMAGES), np.array(IMAGES_LABELS)"
      ],
      "metadata": {
        "id": "_RWKmrd0dr1Q"
      },
      "execution_count": null,
      "outputs": []
    },
    {
      "cell_type": "code",
      "source": [
        "images.shape"
      ],
      "metadata": {
        "colab": {
          "base_uri": "https://localhost:8080/"
        },
        "id": "Y8jKO1_8fR4j",
        "outputId": "78a5d2d5-7891-4d31-f081-81b03c2fcabf"
      },
      "execution_count": null,
      "outputs": [
        {
          "output_type": "execute_result",
          "data": {
            "text/plain": [
              "(16354, 128, 128, 3)"
            ]
          },
          "metadata": {},
          "execution_count": 20
        }
      ]
    },
    {
      "cell_type": "code",
      "source": [
        "images_labels"
      ],
      "metadata": {
        "colab": {
          "base_uri": "https://localhost:8080/"
        },
        "id": "-addOVW7hsjv",
        "outputId": "0f382aec-ca05-4052-c023-037795776484"
      },
      "execution_count": null,
      "outputs": [
        {
          "output_type": "execute_result",
          "data": {
            "text/plain": [
              "array(['no_tumor', 'no_tumor', 'no_tumor', ..., 'meningioma',\n",
              "       'meningioma', 'meningioma'], dtype='<U10')"
            ]
          },
          "metadata": {},
          "execution_count": 21
        }
      ]
    },
    {
      "cell_type": "code",
      "source": [
        "set(IMAGES_LABELS)"
      ],
      "metadata": {
        "colab": {
          "base_uri": "https://localhost:8080/"
        },
        "id": "uOBfo4q1frIt",
        "outputId": "049958cf-4a1a-4f36-c9c6-4a5058c7b295"
      },
      "execution_count": null,
      "outputs": [
        {
          "output_type": "execute_result",
          "data": {
            "text/plain": [
              "{'glioma', 'meningioma', 'no_tumor', 'pituitary'}"
            ]
          },
          "metadata": {},
          "execution_count": 22
        }
      ]
    },
    {
      "cell_type": "code",
      "source": [
        "CLASSES = ['glioma', 'meningioma', 'pituitary', 'no_tumor']"
      ],
      "metadata": {
        "id": "8Gw6WP14fYNp"
      },
      "execution_count": null,
      "outputs": []
    },
    {
      "cell_type": "code",
      "source": [
        "import tensorflow as tf\n",
        "temp_train = []\n",
        "for i in images_labels:\n",
        "    temp_train.append(CLASSES.index(i))\n",
        "train_labels = temp_train\n",
        "train_labels = tf.keras.utils.to_categorical(train_labels)"
      ],
      "metadata": {
        "id": "GeU2fLdZfgsL"
      },
      "execution_count": null,
      "outputs": []
    },
    {
      "cell_type": "code",
      "source": [
        "images_labels"
      ],
      "metadata": {
        "colab": {
          "base_uri": "https://localhost:8080/"
        },
        "id": "5Xmh7AAThibL",
        "outputId": "7db834b1-0608-4538-e837-59053984dc43"
      },
      "execution_count": null,
      "outputs": [
        {
          "output_type": "execute_result",
          "data": {
            "text/plain": [
              "array(['no_tumor', 'no_tumor', 'no_tumor', ..., 'meningioma',\n",
              "       'meningioma', 'meningioma'], dtype='<U10')"
            ]
          },
          "metadata": {},
          "execution_count": 25
        }
      ]
    },
    {
      "cell_type": "code",
      "source": [
        "train_labels"
      ],
      "metadata": {
        "colab": {
          "base_uri": "https://localhost:8080/"
        },
        "id": "WFPYdt3Ph2AO",
        "outputId": "445b133f-1a71-4046-811c-9018e6df1d9f"
      },
      "execution_count": null,
      "outputs": [
        {
          "output_type": "execute_result",
          "data": {
            "text/plain": [
              "array([[0., 0., 0., 1.],\n",
              "       [0., 0., 0., 1.],\n",
              "       [0., 0., 0., 1.],\n",
              "       ...,\n",
              "       [0., 1., 0., 0.],\n",
              "       [0., 1., 0., 0.],\n",
              "       [0., 1., 0., 0.]], dtype=float32)"
            ]
          },
          "metadata": {},
          "execution_count": 26
        }
      ]
    },
    {
      "cell_type": "code",
      "source": [
        "images_labels.shape"
      ],
      "metadata": {
        "colab": {
          "base_uri": "https://localhost:8080/"
        },
        "id": "C5vsavgdhD6I",
        "outputId": "ab649150-137d-4003-ea11-e1151feb618d"
      },
      "execution_count": null,
      "outputs": [
        {
          "output_type": "execute_result",
          "data": {
            "text/plain": [
              "(16354,)"
            ]
          },
          "metadata": {},
          "execution_count": 27
        }
      ]
    },
    {
      "cell_type": "code",
      "source": [
        "import copy as cp"
      ],
      "metadata": {
        "id": "qeGHvhzBkY8g"
      },
      "execution_count": null,
      "outputs": []
    },
    {
      "cell_type": "code",
      "source": [
        "images_labels = cp.deepcopy(train_labels)"
      ],
      "metadata": {
        "id": "vUjA9ZmskWNe"
      },
      "execution_count": null,
      "outputs": []
    },
    {
      "cell_type": "code",
      "source": [
        "images_labels"
      ],
      "metadata": {
        "colab": {
          "base_uri": "https://localhost:8080/"
        },
        "id": "WVrYi50Yl-Cx",
        "outputId": "377d9176-729e-45b0-cb5b-d5d70f142dce"
      },
      "execution_count": null,
      "outputs": [
        {
          "output_type": "execute_result",
          "data": {
            "text/plain": [
              "array([[0., 0., 0., 1.],\n",
              "       [0., 0., 0., 1.],\n",
              "       [0., 0., 0., 1.],\n",
              "       ...,\n",
              "       [0., 1., 0., 0.],\n",
              "       [0., 1., 0., 0.],\n",
              "       [0., 1., 0., 0.]], dtype=float32)"
            ]
          },
          "metadata": {},
          "execution_count": 30
        }
      ]
    },
    {
      "cell_type": "code",
      "source": [
        "def getModelResult(model, train_labels):\n",
        "  loss, accuracy = model.evaluate(images, train_labels, verbose=2)\n",
        "  print(loss, accuracy)\n",
        "  Eff_pred = model.predict(images)\n",
        "\n",
        "  train_labels = np.argmax(train_labels, axis=1)\n",
        "  Eff_pred = np.argmax(Eff_pred, axis=1)\n",
        "\n",
        "  print(classification_report(Eff_pred, train_labels))\n",
        "  cm = confusion_matrix(Eff_pred, train_labels)\n",
        "  print(cm)\n",
        "  print(cm.diagonal()/cm.sum(axis=1))\n",
        "\n"
      ],
      "metadata": {
        "id": "2UBTaISBkJkx"
      },
      "execution_count": null,
      "outputs": []
    },
    {
      "cell_type": "code",
      "source": [
        "getModelResult(EfficientNetB4, images_labels)"
      ],
      "metadata": {
        "colab": {
          "base_uri": "https://localhost:8080/"
        },
        "id": "5nnYhe9CiQ_J",
        "outputId": "fc37a075-ae68-427c-fba6-0eb3f2abd995"
      },
      "execution_count": null,
      "outputs": [
        {
          "output_type": "stream",
          "name": "stdout",
          "text": [
            "512/512 - 38s - loss: 0.2647 - accuracy: 0.9508 - 38s/epoch - 75ms/step\n",
            "0.26465219259262085 0.9508377313613892\n",
            "512/512 [==============================] - 28s 49ms/step\n",
            "              precision    recall  f1-score   support\n",
            "\n",
            "           0       0.94      0.98      0.96      4006\n",
            "           1       0.97      0.90      0.94      4544\n",
            "           2       0.92      1.00      0.96      4070\n",
            "           3       0.98      0.92      0.95      3734\n",
            "\n",
            "    accuracy                           0.95     16354\n",
            "   macro avg       0.95      0.95      0.95     16354\n",
            "weighted avg       0.95      0.95      0.95     16354\n",
            "\n",
            "[[3937   30   17   22]\n",
            " [ 113 4111  268   52]\n",
            " [   0    4 4066    0]\n",
            " [ 138   82   78 3436]]\n",
            "[0.98277584 0.90470951 0.9990172  0.92019282]\n"
          ]
        }
      ]
    },
    {
      "cell_type": "code",
      "source": [
        "getModelResult(EfficientNetB4, images_labels)"
      ],
      "metadata": {
        "colab": {
          "base_uri": "https://localhost:8080/"
        },
        "id": "2gKZ2rHxZrOZ",
        "outputId": "ccdf0e7d-8abd-4720-c6f3-54afe7dd6c49"
      },
      "execution_count": null,
      "outputs": [
        {
          "output_type": "stream",
          "name": "stdout",
          "text": [
            "512/512 - 38s - loss: 0.1619 - accuracy: 0.9703 - 38s/epoch - 74ms/step\n",
            "0.16192497313022614 0.9703436493873596\n",
            "512/512 [==============================] - 27s 48ms/step\n",
            "              precision    recall  f1-score   support\n",
            "\n",
            "           0       0.94      0.99      0.96      3957\n",
            "           1       0.99      0.94      0.96      4445\n",
            "           2       0.98      1.00      0.99      4367\n",
            "           3       0.97      0.95      0.96      3585\n",
            "\n",
            "    accuracy                           0.97     16354\n",
            "   macro avg       0.97      0.97      0.97     16354\n",
            "weighted avg       0.97      0.97      0.97     16354\n",
            "\n",
            "[[3916    5   12   24]\n",
            " [ 149 4180   56   60]\n",
            " [   2    6 4353    6]\n",
            " [ 121   36    8 3420]]\n",
            "[0.98963862 0.94038245 0.99679414 0.9539749 ]\n"
          ]
        }
      ]
    },
    {
      "cell_type": "code",
      "source": [
        "getModelResult(EfficientNetB4, train_labels)"
      ],
      "metadata": {
        "colab": {
          "base_uri": "https://localhost:8080/"
        },
        "id": "0MyWF-2Mj9gG",
        "outputId": "56ba7bae-4a79-4fdc-fcf2-526f43274cc1"
      },
      "execution_count": null,
      "outputs": [
        {
          "output_type": "stream",
          "name": "stdout",
          "text": [
            "512/512 - 41s - loss: 0.2560 - accuracy: 0.9484 - 41s/epoch - 81ms/step\n",
            "0.25600388646125793 0.948391854763031\n",
            "512/512 [==============================] - 31s 54ms/step\n",
            "              precision    recall  f1-score   support\n",
            "\n",
            "           0       0.88      0.99      0.93      3761\n",
            "           1       0.98      0.88      0.93      4696\n",
            "           2       0.95      1.00      0.97      4195\n",
            "           3       0.99      0.94      0.96      3702\n",
            "\n",
            "    accuracy                           0.95     16354\n",
            "   macro avg       0.95      0.95      0.95     16354\n",
            "weighted avg       0.95      0.95      0.95     16354\n",
            "\n",
            "[[3705   12   20   24]\n",
            " [ 379 4151  145   21]\n",
            " [   0    2 4191    2]\n",
            " [ 104   62   73 3463]]\n",
            "[0.98511034 0.88394378 0.99904648 0.9354403 ]\n"
          ]
        }
      ]
    },
    {
      "cell_type": "code",
      "source": [
        "getModelResult(DenseNet121, images_labels)"
      ],
      "metadata": {
        "colab": {
          "base_uri": "https://localhost:8080/"
        },
        "id": "dwTRqLDelLyU",
        "outputId": "e6e88fd4-ad97-4e2d-9419-49362a0d3db2"
      },
      "execution_count": null,
      "outputs": [
        {
          "output_type": "stream",
          "name": "stdout",
          "text": [
            "512/512 - 22s - loss: 0.2256 - accuracy: 0.9496 - 22s/epoch - 42ms/step\n",
            "0.22563698887825012 0.9496147632598877\n",
            "512/512 [==============================] - 19s 33ms/step\n",
            "              precision    recall  f1-score   support\n",
            "\n",
            "           0       0.97      0.96      0.96      4241\n",
            "           1       0.98      0.90      0.94      4607\n",
            "           2       0.88      1.00      0.93      3903\n",
            "           3       0.98      0.96      0.97      3603\n",
            "\n",
            "    accuracy                           0.95     16354\n",
            "   macro avg       0.95      0.95      0.95     16354\n",
            "weighted avg       0.95      0.95      0.95     16354\n",
            "\n",
            "[[4055   63   93   30]\n",
            " [  90 4130  367   20]\n",
            " [   0    2 3893    8]\n",
            " [  43   32   76 3452]]\n",
            "[0.95614242 0.89646191 0.99743787 0.95809048]\n"
          ]
        }
      ]
    },
    {
      "cell_type": "code",
      "source": [
        "getModelResult(InceptionV3, images_labels)"
      ],
      "metadata": {
        "colab": {
          "base_uri": "https://localhost:8080/"
        },
        "id": "gBp7Ss8Wm6eJ",
        "outputId": "fa4e700c-2e4b-4269-d147-c197f7358d7f"
      },
      "execution_count": null,
      "outputs": [
        {
          "output_type": "stream",
          "name": "stdout",
          "text": [
            "512/512 - 17s - loss: 0.2297 - accuracy: 0.9461 - 17s/epoch - 34ms/step\n",
            "0.22967784106731415 0.9460682272911072\n",
            "512/512 [==============================] - 16s 27ms/step\n",
            "              precision    recall  f1-score   support\n",
            "\n",
            "           0       0.92      0.94      0.93      4087\n",
            "           1       0.98      0.90      0.94      4590\n",
            "           2       0.94      0.99      0.97      4233\n",
            "           3       0.95      0.96      0.96      3444\n",
            "\n",
            "    accuracy                           0.95     16354\n",
            "   macro avg       0.95      0.95      0.95     16354\n",
            "weighted avg       0.95      0.95      0.95     16354\n",
            "\n",
            "[[3835   71  100   81]\n",
            " [ 232 4132  129   97]\n",
            " [  34    4 4184   11]\n",
            " [  87   20   16 3321]]\n",
            "[0.93834108 0.90021786 0.98842429 0.96428571]\n"
          ]
        }
      ]
    },
    {
      "cell_type": "code",
      "source": [
        "getModelResult(ResNet50, images_labels)"
      ],
      "metadata": {
        "colab": {
          "base_uri": "https://localhost:8080/"
        },
        "id": "eP6Q7DCNm82o",
        "outputId": "654e5a42-a33c-4eb5-fbd3-a6729f7b9eab"
      },
      "execution_count": null,
      "outputs": [
        {
          "output_type": "stream",
          "name": "stdout",
          "text": [
            "512/512 - 20s - loss: 0.2713 - accuracy: 0.9365 - 20s/epoch - 39ms/step\n",
            "0.2712867558002472 0.9364681243896484\n",
            "512/512 [==============================] - 19s 34ms/step\n",
            "              precision    recall  f1-score   support\n",
            "\n",
            "           0       0.84      0.97      0.90      3615\n",
            "           1       0.97      0.89      0.93      4577\n",
            "           2       0.96      0.99      0.98      4302\n",
            "           3       0.98      0.89      0.94      3860\n",
            "\n",
            "    accuracy                           0.94     16354\n",
            "   macro avg       0.94      0.94      0.94     16354\n",
            "weighted avg       0.94      0.94      0.94     16354\n",
            "\n",
            "[[3524   41   15   35]\n",
            " [ 349 4085  120   23]\n",
            " [  15   27 4257    3]\n",
            " [ 300   74   37 3449]]\n",
            "[0.97482711 0.89250601 0.98953975 0.89352332]\n"
          ]
        }
      ]
    },
    {
      "cell_type": "code",
      "source": [
        "getModelResult(MobileNetV2, images_labels)"
      ],
      "metadata": {
        "colab": {
          "base_uri": "https://localhost:8080/"
        },
        "id": "I87pZJeAm9dL",
        "outputId": "89ed5dd1-2c0b-4a75-fd3b-d2c472d2cb0b"
      },
      "execution_count": null,
      "outputs": [
        {
          "output_type": "stream",
          "name": "stdout",
          "text": [
            "512/512 - 10s - loss: 0.4867 - accuracy: 0.8899 - 10s/epoch - 19ms/step\n",
            "0.4867449998855591 0.8898740410804749\n",
            "512/512 [==============================] - 8s 14ms/step\n",
            "              precision    recall  f1-score   support\n",
            "\n",
            "           0       0.75      0.97      0.85      3274\n",
            "           1       0.91      0.97      0.94      3957\n",
            "           2       0.92      1.00      0.96      4105\n",
            "           3       0.99      0.69      0.81      5018\n",
            "\n",
            "    accuracy                           0.89     16354\n",
            "   macro avg       0.89      0.91      0.89     16354\n",
            "weighted avg       0.91      0.89      0.89     16354\n",
            "\n",
            "[[3161   90    7   16]\n",
            " [  50 3840   47   20]\n",
            " [   0    3 4090   12]\n",
            " [ 977  294  285 3462]]\n",
            "[0.96548564 0.97043215 0.99634592 0.6899163 ]\n"
          ]
        }
      ]
    },
    {
      "cell_type": "code",
      "source": [
        "getModelResult(mymodel, images_labels)"
      ],
      "metadata": {
        "id": "SCRR9kZfm9aL",
        "colab": {
          "base_uri": "https://localhost:8080/"
        },
        "outputId": "93b98a01-a8ab-4555-edde-d4a169efda32"
      },
      "execution_count": null,
      "outputs": [
        {
          "output_type": "stream",
          "name": "stdout",
          "text": [
            "512/512 - 39s - loss: 0.2262 - accuracy: 0.9547 - 39s/epoch - 76ms/step\n",
            "0.22622326016426086 0.9546899795532227\n",
            "512/512 [==============================] - 30s 52ms/step\n",
            "              precision    recall  f1-score   support\n",
            "\n",
            "           0       0.93      0.98      0.95      3948\n",
            "           1       0.99      0.89      0.94      4687\n",
            "           2       0.96      1.00      0.98      4248\n",
            "           3       0.94      0.95      0.95      3471\n",
            "\n",
            "    accuracy                           0.95     16354\n",
            "   macro avg       0.95      0.96      0.95     16354\n",
            "weighted avg       0.96      0.95      0.95     16354\n",
            "\n",
            "[[3878   12    6   52]\n",
            " [ 192 4187  164  144]\n",
            " [   0    6 4238    4]\n",
            " [ 118   22   21 3310]]\n",
            "[0.9822695  0.89332195 0.99764595 0.95361567]\n"
          ]
        }
      ]
    },
    {
      "cell_type": "code",
      "source": [
        "%ls /content/drive/MyDrive/FYP_Saved_Models/"
      ],
      "metadata": {
        "colab": {
          "base_uri": "https://localhost:8080/"
        },
        "id": "c_WgzHJRNWk5",
        "outputId": "a7775cf8-2c59-41aa-e098-752007674545"
      },
      "execution_count": null,
      "outputs": [
        {
          "output_type": "stream",
          "name": "stdout",
          "text": [
            "model_30_epochs.h5       \u001b[0m\u001b[01;34mtraining_50_epochs\u001b[0m/\n",
            "new_model_30_epochs.h5   VTumorDx_v5_10_epochs.h5\n",
            "\u001b[01;34mnew_training_30_epochs\u001b[0m/  VTumorDx_v5.2_10_epochs.h5\n",
            "\u001b[01;34mtraining_1\u001b[0m/              \u001b[01;34mVTumorDx_v5.2_training_10_epochs\u001b[0m/\n",
            "\u001b[01;34mtraining_2\u001b[0m/              \u001b[01;34mVTumorDx_v5_training_10_epochs\u001b[0m/\n",
            "\u001b[01;34mtraining_30_epochs\u001b[0m/\n"
          ]
        }
      ]
    },
    {
      "cell_type": "code",
      "source": [
        "mymodel_30 = load_model(\"/content/drive/MyDrive/FYP_Saved_Models/model_30_epochs.h5\")"
      ],
      "metadata": {
        "id": "6jOon2enMjAY"
      },
      "execution_count": null,
      "outputs": []
    },
    {
      "cell_type": "code",
      "source": [
        "getModelResult(mymodel_30, images_labels)"
      ],
      "metadata": {
        "colab": {
          "base_uri": "https://localhost:8080/"
        },
        "id": "bxsFx-b_NcRe",
        "outputId": "1c5b366f-322f-4af7-ade6-1413e23275be"
      },
      "execution_count": null,
      "outputs": [
        {
          "output_type": "stream",
          "name": "stdout",
          "text": [
            "512/512 - 33s - loss: 0.4859 - accuracy: 0.9288 - 33s/epoch - 64ms/step\n",
            "0.4858655035495758 0.9287636280059814\n",
            "512/512 [==============================] - 30s 53ms/step\n",
            "              precision    recall  f1-score   support\n",
            "\n",
            "           0       0.96      0.96      0.96      4196\n",
            "           1       0.85      0.92      0.89      3933\n",
            "           2       0.92      1.00      0.96      4096\n",
            "           3       0.99      0.84      0.91      4129\n",
            "\n",
            "    accuracy                           0.93     16354\n",
            "   macro avg       0.93      0.93      0.93     16354\n",
            "weighted avg       0.93      0.93      0.93     16354\n",
            "\n",
            "[[4016   88   55   37]\n",
            " [  98 3612  223    0]\n",
            " [   0    8 4088    0]\n",
            " [  74  519   63 3473]]\n",
            "[0.957102   0.91838291 0.99804688 0.84112376]\n"
          ]
        }
      ]
    },
    {
      "cell_type": "code",
      "source": [
        "mymodel_new_30 = load_model(\"/content/drive/MyDrive/FYP_Saved_Models/new_model_30_epochs.h5\")"
      ],
      "metadata": {
        "id": "8w3GaEsNNgIs"
      },
      "execution_count": null,
      "outputs": []
    },
    {
      "cell_type": "code",
      "source": [
        "getModelResult(mymodel_new_30, images_labels)"
      ],
      "metadata": {
        "colab": {
          "base_uri": "https://localhost:8080/"
        },
        "id": "UMSKqPwSNmO6",
        "outputId": "81a895da-c087-4bc4-b3b6-1e4298af7489"
      },
      "execution_count": null,
      "outputs": [
        {
          "output_type": "stream",
          "name": "stdout",
          "text": [
            "512/512 - 33s - loss: 0.5299 - accuracy: 0.9030 - 33s/epoch - 64ms/step\n",
            "0.5298781394958496 0.9029595255851746\n",
            "512/512 [==============================] - 30s 52ms/step\n",
            "              precision    recall  f1-score   support\n",
            "\n",
            "           0       0.84      0.99      0.91      3544\n",
            "           1       0.84      0.94      0.89      3755\n",
            "           2       0.95      1.00      0.97      4206\n",
            "           3       1.00      0.72      0.84      4849\n",
            "\n",
            "    accuracy                           0.90     16354\n",
            "   macro avg       0.91      0.91      0.90     16354\n",
            "weighted avg       0.91      0.90      0.90     16354\n",
            "\n",
            "[[3506   21   17    0]\n",
            " [ 102 3547  106    0]\n",
            " [   0    2 4204    0]\n",
            " [ 580  657  102 3510]]\n",
            "[0.98927765 0.94460719 0.99952449 0.72386059]\n"
          ]
        }
      ]
    },
    {
      "cell_type": "code",
      "source": [
        "mymodel_20 = load_model(\"/content/drive/MyDrive/FYP_Saved_Models/VTumorDx_v5.2_10_epochs.h5\")"
      ],
      "metadata": {
        "id": "VRerEFblNp_Z"
      },
      "execution_count": null,
      "outputs": []
    },
    {
      "cell_type": "code",
      "source": [
        "getModelResult(mymodel_20, images_labels)"
      ],
      "metadata": {
        "colab": {
          "base_uri": "https://localhost:8080/"
        },
        "id": "gSGoh3QDN2AU",
        "outputId": "88dbf712-bb6f-4810-a80e-3663ba09cdb4"
      },
      "execution_count": null,
      "outputs": [
        {
          "output_type": "stream",
          "name": "stdout",
          "text": [
            "512/512 - 30s - loss: 0.1664 - accuracy: 0.9711 - 30s/epoch - 58ms/step\n",
            "0.16637548804283142 0.9711385369300842\n",
            "512/512 [==============================] - 30s 52ms/step\n",
            "              precision    recall  f1-score   support\n",
            "\n",
            "           0       0.95      0.98      0.96      4082\n",
            "           1       0.99      0.94      0.96      4444\n",
            "           2       0.98      0.99      0.99      4384\n",
            "           3       0.96      0.98      0.97      3444\n",
            "\n",
            "    accuracy                           0.97     16354\n",
            "   macro avg       0.97      0.97      0.97     16354\n",
            "weighted avg       0.97      0.97      0.97     16354\n",
            "\n",
            "[[3990   24    0   68]\n",
            " [ 149 4173   75   47]\n",
            " [   1   11 4348   24]\n",
            " [  48   19    6 3371]]\n",
            "[0.97746203 0.9390189  0.99178832 0.97880372]\n"
          ]
        }
      ]
    },
    {
      "cell_type": "code",
      "source": [],
      "metadata": {
        "id": "6vV7dez2OQzu"
      },
      "execution_count": null,
      "outputs": []
    }
  ]
}