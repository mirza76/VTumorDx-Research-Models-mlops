{
  "nbformat": 4,
  "nbformat_minor": 0,
  "metadata": {
    "colab": {
      "provenance": [],
      "collapsed_sections": [
        "8fnbXm3-ec1R",
        "1pqg2UyDE47F",
        "dR13lRCRUeyz"
      ]
    },
    "kernelspec": {
      "name": "python3",
      "display_name": "Python 3"
    },
    "language_info": {
      "name": "python"
    },
    "gpuClass": "standard",
    "accelerator": "GPU"
  },
  "cells": [
    {
      "cell_type": "markdown",
      "source": [
        "**We are using Sartaj + FigShare for train, val and test split**"
      ],
      "metadata": {
        "id": "Ujx8gH5X5bqu"
      }
    },
    {
      "cell_type": "markdown",
      "source": [
        "**Test it on two more datasets**"
      ],
      "metadata": {
        "id": "ovwXQMXA5jQh"
      }
    },
    {
      "cell_type": "markdown",
      "source": [
        "**TensorFlow 2.9.1 will be used because it can save the model other higher versions give error**"
      ],
      "metadata": {
        "id": "f3Q-4BBG74ed"
      }
    },
    {
      "cell_type": "markdown",
      "source": [
        "**Importing Modules**"
      ],
      "metadata": {
        "id": "Lz3ytWPdEinm"
      }
    },
    {
      "cell_type": "code",
      "source": [
        "!pip install tensorflow==2.9.1"
      ],
      "metadata": {
        "colab": {
          "base_uri": "https://localhost:8080/",
          "height": 1000
        },
        "id": "7Iptf-aBi66V",
        "outputId": "e40aba92-696c-4efc-b6c8-2f24201fac41"
      },
      "execution_count": null,
      "outputs": [
        {
          "output_type": "stream",
          "name": "stdout",
          "text": [
            "Looking in indexes: https://pypi.org/simple, https://us-python.pkg.dev/colab-wheels/public/simple/\n",
            "Collecting tensorflow==2.9.1\n",
            "  Downloading tensorflow-2.9.1-cp39-cp39-manylinux_2_17_x86_64.manylinux2014_x86_64.whl (511.7 MB)\n",
            "\u001b[2K     \u001b[90m━━━━━━━━━━━━━━━━━━━━━━━━━━━━━━━━━━━━━━━\u001b[0m \u001b[32m511.7/511.7 MB\u001b[0m \u001b[31m3.0 MB/s\u001b[0m eta \u001b[36m0:00:00\u001b[0m\n",
            "\u001b[?25hRequirement already satisfied: tensorflow-io-gcs-filesystem>=0.23.1 in /usr/local/lib/python3.9/dist-packages (from tensorflow==2.9.1) (0.32.0)\n",
            "Collecting protobuf<3.20,>=3.9.2\n",
            "  Downloading protobuf-3.19.6-cp39-cp39-manylinux_2_17_x86_64.manylinux2014_x86_64.whl (1.1 MB)\n",
            "\u001b[2K     \u001b[90m━━━━━━━━━━━━━━━━━━━━━━━━━━━━━━━━━━━━━━━━\u001b[0m \u001b[32m1.1/1.1 MB\u001b[0m \u001b[31m78.2 MB/s\u001b[0m eta \u001b[36m0:00:00\u001b[0m\n",
            "\u001b[?25hCollecting keras-preprocessing>=1.1.1\n",
            "  Downloading Keras_Preprocessing-1.1.2-py2.py3-none-any.whl (42 kB)\n",
            "\u001b[2K     \u001b[90m━━━━━━━━━━━━━━━━━━━━━━━━━━━━━━━━━━━━━━━━\u001b[0m \u001b[32m42.6/42.6 kB\u001b[0m \u001b[31m6.1 MB/s\u001b[0m eta \u001b[36m0:00:00\u001b[0m\n",
            "\u001b[?25hRequirement already satisfied: grpcio<2.0,>=1.24.3 in /usr/local/lib/python3.9/dist-packages (from tensorflow==2.9.1) (1.53.0)\n",
            "Requirement already satisfied: numpy>=1.20 in /usr/local/lib/python3.9/dist-packages (from tensorflow==2.9.1) (1.22.4)\n",
            "Requirement already satisfied: absl-py>=1.0.0 in /usr/local/lib/python3.9/dist-packages (from tensorflow==2.9.1) (1.4.0)\n",
            "Requirement already satisfied: packaging in /usr/local/lib/python3.9/dist-packages (from tensorflow==2.9.1) (23.0)\n",
            "Requirement already satisfied: termcolor>=1.1.0 in /usr/local/lib/python3.9/dist-packages (from tensorflow==2.9.1) (2.2.0)\n",
            "Requirement already satisfied: typing-extensions>=3.6.6 in /usr/local/lib/python3.9/dist-packages (from tensorflow==2.9.1) (4.5.0)\n",
            "Requirement already satisfied: google-pasta>=0.1.1 in /usr/local/lib/python3.9/dist-packages (from tensorflow==2.9.1) (0.2.0)\n",
            "Collecting keras<2.10.0,>=2.9.0rc0\n",
            "  Downloading keras-2.9.0-py2.py3-none-any.whl (1.6 MB)\n",
            "\u001b[2K     \u001b[90m━━━━━━━━━━━━━━━━━━━━━━━━━━━━━━━━━━━━━━━━\u001b[0m \u001b[32m1.6/1.6 MB\u001b[0m \u001b[31m83.3 MB/s\u001b[0m eta \u001b[36m0:00:00\u001b[0m\n",
            "\u001b[?25hRequirement already satisfied: gast<=0.4.0,>=0.2.1 in /usr/local/lib/python3.9/dist-packages (from tensorflow==2.9.1) (0.4.0)\n",
            "Requirement already satisfied: h5py>=2.9.0 in /usr/local/lib/python3.9/dist-packages (from tensorflow==2.9.1) (3.8.0)\n",
            "Requirement already satisfied: libclang>=13.0.0 in /usr/local/lib/python3.9/dist-packages (from tensorflow==2.9.1) (16.0.0)\n",
            "Collecting flatbuffers<2,>=1.12\n",
            "  Downloading flatbuffers-1.12-py2.py3-none-any.whl (15 kB)\n",
            "Requirement already satisfied: opt-einsum>=2.3.2 in /usr/local/lib/python3.9/dist-packages (from tensorflow==2.9.1) (3.3.0)\n",
            "Requirement already satisfied: setuptools in /usr/local/lib/python3.9/dist-packages (from tensorflow==2.9.1) (67.6.1)\n",
            "Collecting tensorboard<2.10,>=2.9\n",
            "  Downloading tensorboard-2.9.1-py3-none-any.whl (5.8 MB)\n",
            "\u001b[2K     \u001b[90m━━━━━━━━━━━━━━━━━━━━━━━━━━━━━━━━━━━━━━━━\u001b[0m \u001b[32m5.8/5.8 MB\u001b[0m \u001b[31m75.0 MB/s\u001b[0m eta \u001b[36m0:00:00\u001b[0m\n",
            "\u001b[?25hCollecting tensorflow-estimator<2.10.0,>=2.9.0rc0\n",
            "  Downloading tensorflow_estimator-2.9.0-py2.py3-none-any.whl (438 kB)\n",
            "\u001b[2K     \u001b[90m━━━━━━━━━━━━━━━━━━━━━━━━━━━━━━━━━━━━━━\u001b[0m \u001b[32m438.7/438.7 kB\u001b[0m \u001b[31m46.0 MB/s\u001b[0m eta \u001b[36m0:00:00\u001b[0m\n",
            "\u001b[?25hRequirement already satisfied: wrapt>=1.11.0 in /usr/local/lib/python3.9/dist-packages (from tensorflow==2.9.1) (1.14.1)\n",
            "Requirement already satisfied: astunparse>=1.6.0 in /usr/local/lib/python3.9/dist-packages (from tensorflow==2.9.1) (1.6.3)\n",
            "Requirement already satisfied: six>=1.12.0 in /usr/local/lib/python3.9/dist-packages (from tensorflow==2.9.1) (1.16.0)\n",
            "Requirement already satisfied: wheel<1.0,>=0.23.0 in /usr/local/lib/python3.9/dist-packages (from astunparse>=1.6.0->tensorflow==2.9.1) (0.40.0)\n",
            "Requirement already satisfied: tensorboard-plugin-wit>=1.6.0 in /usr/local/lib/python3.9/dist-packages (from tensorboard<2.10,>=2.9->tensorflow==2.9.1) (1.8.1)\n",
            "Requirement already satisfied: werkzeug>=1.0.1 in /usr/local/lib/python3.9/dist-packages (from tensorboard<2.10,>=2.9->tensorflow==2.9.1) (2.2.3)\n",
            "Requirement already satisfied: google-auth<3,>=1.6.3 in /usr/local/lib/python3.9/dist-packages (from tensorboard<2.10,>=2.9->tensorflow==2.9.1) (2.17.2)\n",
            "Collecting tensorboard-data-server<0.7.0,>=0.6.0\n",
            "  Downloading tensorboard_data_server-0.6.1-py3-none-manylinux2010_x86_64.whl (4.9 MB)\n",
            "\u001b[2K     \u001b[90m━━━━━━━━━━━━━━━━━━━━━━━━━━━━━━━━━━━━━━━━\u001b[0m \u001b[32m4.9/4.9 MB\u001b[0m \u001b[31m98.4 MB/s\u001b[0m eta \u001b[36m0:00:00\u001b[0m\n",
            "\u001b[?25hRequirement already satisfied: markdown>=2.6.8 in /usr/local/lib/python3.9/dist-packages (from tensorboard<2.10,>=2.9->tensorflow==2.9.1) (3.4.3)\n",
            "Requirement already satisfied: requests<3,>=2.21.0 in /usr/local/lib/python3.9/dist-packages (from tensorboard<2.10,>=2.9->tensorflow==2.9.1) (2.27.1)\n",
            "Collecting google-auth-oauthlib<0.5,>=0.4.1\n",
            "  Downloading google_auth_oauthlib-0.4.6-py2.py3-none-any.whl (18 kB)\n",
            "Requirement already satisfied: cachetools<6.0,>=2.0.0 in /usr/local/lib/python3.9/dist-packages (from google-auth<3,>=1.6.3->tensorboard<2.10,>=2.9->tensorflow==2.9.1) (5.3.0)\n",
            "Requirement already satisfied: rsa<5,>=3.1.4 in /usr/local/lib/python3.9/dist-packages (from google-auth<3,>=1.6.3->tensorboard<2.10,>=2.9->tensorflow==2.9.1) (4.9)\n",
            "Requirement already satisfied: pyasn1-modules>=0.2.1 in /usr/local/lib/python3.9/dist-packages (from google-auth<3,>=1.6.3->tensorboard<2.10,>=2.9->tensorflow==2.9.1) (0.2.8)\n",
            "Requirement already satisfied: requests-oauthlib>=0.7.0 in /usr/local/lib/python3.9/dist-packages (from google-auth-oauthlib<0.5,>=0.4.1->tensorboard<2.10,>=2.9->tensorflow==2.9.1) (1.3.1)\n",
            "Requirement already satisfied: importlib-metadata>=4.4 in /usr/local/lib/python3.9/dist-packages (from markdown>=2.6.8->tensorboard<2.10,>=2.9->tensorflow==2.9.1) (6.2.0)\n",
            "Requirement already satisfied: certifi>=2017.4.17 in /usr/local/lib/python3.9/dist-packages (from requests<3,>=2.21.0->tensorboard<2.10,>=2.9->tensorflow==2.9.1) (2022.12.7)\n",
            "Requirement already satisfied: idna<4,>=2.5 in /usr/local/lib/python3.9/dist-packages (from requests<3,>=2.21.0->tensorboard<2.10,>=2.9->tensorflow==2.9.1) (3.4)\n",
            "Requirement already satisfied: charset-normalizer~=2.0.0 in /usr/local/lib/python3.9/dist-packages (from requests<3,>=2.21.0->tensorboard<2.10,>=2.9->tensorflow==2.9.1) (2.0.12)\n",
            "Requirement already satisfied: urllib3<1.27,>=1.21.1 in /usr/local/lib/python3.9/dist-packages (from requests<3,>=2.21.0->tensorboard<2.10,>=2.9->tensorflow==2.9.1) (1.26.15)\n",
            "Requirement already satisfied: MarkupSafe>=2.1.1 in /usr/local/lib/python3.9/dist-packages (from werkzeug>=1.0.1->tensorboard<2.10,>=2.9->tensorflow==2.9.1) (2.1.2)\n",
            "Requirement already satisfied: zipp>=0.5 in /usr/local/lib/python3.9/dist-packages (from importlib-metadata>=4.4->markdown>=2.6.8->tensorboard<2.10,>=2.9->tensorflow==2.9.1) (3.15.0)\n",
            "Requirement already satisfied: pyasn1<0.5.0,>=0.4.6 in /usr/local/lib/python3.9/dist-packages (from pyasn1-modules>=0.2.1->google-auth<3,>=1.6.3->tensorboard<2.10,>=2.9->tensorflow==2.9.1) (0.4.8)\n",
            "Requirement already satisfied: oauthlib>=3.0.0 in /usr/local/lib/python3.9/dist-packages (from requests-oauthlib>=0.7.0->google-auth-oauthlib<0.5,>=0.4.1->tensorboard<2.10,>=2.9->tensorflow==2.9.1) (3.2.2)\n",
            "Installing collected packages: keras, flatbuffers, tensorflow-estimator, tensorboard-data-server, protobuf, keras-preprocessing, google-auth-oauthlib, tensorboard, tensorflow\n",
            "  Attempting uninstall: keras\n",
            "    Found existing installation: keras 2.12.0\n",
            "    Uninstalling keras-2.12.0:\n",
            "      Successfully uninstalled keras-2.12.0\n",
            "  Attempting uninstall: flatbuffers\n",
            "    Found existing installation: flatbuffers 23.3.3\n",
            "    Uninstalling flatbuffers-23.3.3:\n",
            "      Successfully uninstalled flatbuffers-23.3.3\n",
            "  Attempting uninstall: tensorflow-estimator\n",
            "    Found existing installation: tensorflow-estimator 2.12.0\n",
            "    Uninstalling tensorflow-estimator-2.12.0:\n",
            "      Successfully uninstalled tensorflow-estimator-2.12.0\n",
            "  Attempting uninstall: tensorboard-data-server\n",
            "    Found existing installation: tensorboard-data-server 0.7.0\n",
            "    Uninstalling tensorboard-data-server-0.7.0:\n",
            "      Successfully uninstalled tensorboard-data-server-0.7.0\n",
            "  Attempting uninstall: protobuf\n",
            "    Found existing installation: protobuf 3.20.3\n",
            "    Uninstalling protobuf-3.20.3:\n",
            "      Successfully uninstalled protobuf-3.20.3\n",
            "  Attempting uninstall: google-auth-oauthlib\n",
            "    Found existing installation: google-auth-oauthlib 1.0.0\n",
            "    Uninstalling google-auth-oauthlib-1.0.0:\n",
            "      Successfully uninstalled google-auth-oauthlib-1.0.0\n",
            "  Attempting uninstall: tensorboard\n",
            "    Found existing installation: tensorboard 2.12.1\n",
            "    Uninstalling tensorboard-2.12.1:\n",
            "      Successfully uninstalled tensorboard-2.12.1\n",
            "  Attempting uninstall: tensorflow\n",
            "    Found existing installation: tensorflow 2.12.0\n",
            "    Uninstalling tensorflow-2.12.0:\n",
            "      Successfully uninstalled tensorflow-2.12.0\n",
            "Successfully installed flatbuffers-1.12 google-auth-oauthlib-0.4.6 keras-2.9.0 keras-preprocessing-1.1.2 protobuf-3.19.6 tensorboard-2.9.1 tensorboard-data-server-0.6.1 tensorflow-2.9.1 tensorflow-estimator-2.9.0\n"
          ]
        },
        {
          "output_type": "display_data",
          "data": {
            "application/vnd.colab-display-data+json": {
              "pip_warning": {
                "packages": [
                  "google"
                ]
              }
            }
          },
          "metadata": {}
        }
      ]
    },
    {
      "cell_type": "code",
      "source": [
        "# !pip install tensorflow==2.9.1\n",
        "import os\n",
        "os.environ['TF_CPP_MIN_LOG_LEVEL'] = '2'\n",
        "import tensorflow as tf\n",
        "print(tf.__version__)\n",
        "from tensorflow import keras\n",
        "from tensorflow.keras import backend as K\n",
        "from tensorflow.keras.layers import Dense, Activation,Dropout,Conv2D, MaxPooling2D,BatchNormalization, Flatten\n",
        "from tensorflow.keras.optimizers import Adam, Adamax\n",
        "from tensorflow.keras.metrics import categorical_crossentropy\n",
        "from tensorflow.keras import regularizers\n",
        "from tensorflow.keras.preprocessing.image import ImageDataGenerator\n",
        "from tensorflow.keras.models import Model, load_model, Sequential\n",
        "import numpy as np\n",
        "import pandas as pd\n",
        "# import shutil\n",
        "import time\n",
        "import cv2 as cv\n",
        "from sklearn.utils import shuffle\n",
        "from sklearn.model_selection import train_test_split\n",
        "import matplotlib.pyplot as plt\n",
        "import seaborn as sns\n",
        "sns.set_style('darkgrid')\n",
        "from PIL import Image\n",
        "from sklearn.metrics import confusion_matrix, classification_report\n",
        "from IPython.core.display import display, HTML\n",
        "# stop annoying tensorflow warning messages\n",
        "import logging\n",
        "logging.getLogger(\"tensorflow\").setLevel(logging.ERROR)\n",
        "from tensorflow.keras.callbacks import TensorBoard, ModelCheckpoint\n",
        "import copy as cp"
      ],
      "metadata": {
        "id": "32VNi5R_dM0X",
        "colab": {
          "base_uri": "https://localhost:8080/"
        },
        "outputId": "7ec23557-2ab9-446a-ba02-098255f94b82"
      },
      "execution_count": null,
      "outputs": [
        {
          "output_type": "stream",
          "name": "stdout",
          "text": [
            "2.9.1\n"
          ]
        }
      ]
    },
    {
      "cell_type": "markdown",
      "source": [
        "**Connecting with Google Drive**"
      ],
      "metadata": {
        "id": "KLdUBrOgEmrO"
      }
    },
    {
      "cell_type": "code",
      "source": [
        "from google.colab import drive\n",
        "drive.mount('/content/drive')"
      ],
      "metadata": {
        "id": "Xk5ym-I0JtC4",
        "colab": {
          "base_uri": "https://localhost:8080/"
        },
        "outputId": "2e952fb0-e684-4fe9-9648-1a0f79c47b47"
      },
      "execution_count": null,
      "outputs": [
        {
          "output_type": "stream",
          "name": "stdout",
          "text": [
            "Mounted at /content/drive\n"
          ]
        }
      ]
    },
    {
      "cell_type": "markdown",
      "source": [
        "**Mounting to Dataset Folder**"
      ],
      "metadata": {
        "id": "DZV40KLGdZOx"
      }
    },
    {
      "cell_type": "code",
      "source": [
        "%ls"
      ],
      "metadata": {
        "colab": {
          "base_uri": "https://localhost:8080/"
        },
        "id": "a4ICzP0z5GsL",
        "outputId": "f38932f7-f394-4e6d-8613-1d6c04f36629"
      },
      "execution_count": null,
      "outputs": [
        {
          "output_type": "stream",
          "name": "stdout",
          "text": [
            "\u001b[0m\u001b[01;34mdrive\u001b[0m/  \u001b[01;34msample_data\u001b[0m/\n"
          ]
        }
      ]
    },
    {
      "cell_type": "code",
      "source": [
        "%cd /content/drive/MyDrive/"
      ],
      "metadata": {
        "colab": {
          "base_uri": "https://localhost:8080/"
        },
        "id": "ulMuzgjrEqp9",
        "outputId": "e85d928a-5f88-4037-b287-9accc943bd94"
      },
      "execution_count": null,
      "outputs": [
        {
          "output_type": "stream",
          "name": "stdout",
          "text": [
            "/content/drive/MyDrive\n"
          ]
        }
      ]
    },
    {
      "cell_type": "code",
      "source": [
        "%ls /content/drive/MyDrive/FYP"
      ],
      "metadata": {
        "colab": {
          "base_uri": "https://localhost:8080/"
        },
        "id": "io0cXTfG5K5v",
        "outputId": "26ec254f-9e5d-4091-c50d-f4cce0670fbc"
      },
      "execution_count": null,
      "outputs": [
        {
          "output_type": "stream",
          "name": "stdout",
          "text": [
            " \u001b[0m\u001b[01;34mDatasets\u001b[0m/  \u001b[01;34m'Saved Results'\u001b[0m/  \u001b[01;34m'Testing Datasets'\u001b[0m/\n"
          ]
        }
      ]
    },
    {
      "cell_type": "code",
      "source": [
        "%ls /content/drive/MyDrive/FYP/Datasets"
      ],
      "metadata": {
        "colab": {
          "base_uri": "https://localhost:8080/"
        },
        "id": "9Jd8cUS05ZJf",
        "outputId": "9493c403-4a0e-49bd-841b-1994f7378dba"
      },
      "execution_count": null,
      "outputs": [
        {
          "output_type": "stream",
          "name": "stdout",
          "text": [
            "\u001b[0m\u001b[01;34m1_FigShare\u001b[0m/  \u001b[01;34m2_Sartaj\u001b[0m/  \u001b[01;34mSegmentation_Figshare\u001b[0m/\n"
          ]
        }
      ]
    },
    {
      "cell_type": "markdown",
      "source": [
        "**Image Processing Techniques**"
      ],
      "metadata": {
        "id": "a3TIqm4RdmJz"
      }
    },
    {
      "cell_type": "markdown",
      "source": [
        "**Cropping Images**"
      ],
      "metadata": {
        "id": "R8CBGP_zFjzF"
      }
    },
    {
      "cell_type": "code",
      "source": [
        "def crop_image(img, GAP_VAL = 20):\n",
        "    try:\n",
        "      imgW, imgH, imgC = img.shape\n",
        "    except:\n",
        "      imgW, imgH = img.shape\n",
        "      \n",
        "    image = cp.deepcopy(img)\n",
        "    image = cv.cvtColor(image, cv.COLOR_BGR2GRAY)\n",
        "    ret, image = cv.threshold(image, 20, 255, 0)\n",
        "\n",
        "    contours, hierarchy = cv.findContours(image, cv.RETR_TREE, cv.CHAIN_APPROX_SIMPLE)\n",
        "\n",
        "    max_score = cv.contourArea(contours[0])\n",
        "    max_score_index = 0\n",
        "    for i in range(1, len(contours)):\n",
        "        if cv.contourArea(contours[i]) > max_score:\n",
        "            max_score = cv.contourArea(contours[i])\n",
        "            max_score_index = i\n",
        "\n",
        "    c = contours[max_score_index]\n",
        "    extLeft = (c[c[:, :, 0].argmin()][0])\n",
        "    extRight = (c[c[:, :, 0].argmax()][0])\n",
        "    extTop = (c[c[:, :, 1].argmin()][0])\n",
        "    extBot = (c[c[:, :, 1].argmax()][0])\n",
        "\n",
        "    extLeft[0] = extLeft[0] - GAP_VAL\n",
        "    if extLeft[0] < 0:\n",
        "        extLeft[0] = 1\n",
        "\n",
        "    extTop[1] = extTop[1] - GAP_VAL\n",
        "    if extTop[1] < 0:\n",
        "        extTop[1] = 1\n",
        "\n",
        "    extRight[0] = extRight[0] + GAP_VAL\n",
        "    if extRight[0] > imgW:\n",
        "        extRight[0] = imgW - 1\n",
        "\n",
        "    extBot[1] = extBot[1] + GAP_VAL\n",
        "    if extBot[1] > imgH:\n",
        "        extBot[1] = imgH - 1\n",
        "\n",
        "    new_img = img[extTop[1]:extBot[1], extLeft[0]:extRight[0]]\n",
        "\n",
        "    return new_img"
      ],
      "metadata": {
        "id": "1TyUF2ATFgiw"
      },
      "execution_count": null,
      "outputs": []
    },
    {
      "cell_type": "markdown",
      "source": [
        "**Function for Loading Images From Given Path**"
      ],
      "metadata": {
        "id": "2hwQje-aFi9N"
      }
    },
    {
      "cell_type": "code",
      "source": [
        "def load_images(image_size, datasets_path):\n",
        "  IMAGES = []\n",
        "  IMAGES_LABELS = []\n",
        "\n",
        "  ''' Loading Images of Classes '''\n",
        "  for path in datasets_path:\n",
        "    for subDirectory in os.listdir(path):\n",
        "      for image in os.listdir(path + \"/\" + subDirectory):\n",
        "        img = cv.imread(path + \"/\" + subDirectory + \"/\" + image)\n",
        "        img = crop_image(img, GAP_VAL=5)  # Cropping\n",
        "        img = cv.resize(img, image_size)  # Resizing\n",
        "\n",
        "        # Fliping and Rotation \n",
        "\n",
        "        # Adding Original Image to list\n",
        "        IMAGES.append(img)\n",
        "        IMAGES_LABELS.append(subDirectory)\n",
        "\n",
        "        # Adding Horizontal Flipped Image to list\n",
        "        horizontal_flip = cv.flip(img, 1)\n",
        "        IMAGES.append(horizontal_flip)\n",
        "        IMAGES_LABELS.append(subDirectory)\n",
        "\n",
        "        # Adding Vertical Flipped Image to list\n",
        "        vertical_flip = cv.flip(img, 0)\n",
        "        IMAGES.append(vertical_flip)\n",
        "        IMAGES_LABELS.append(subDirectory)\n",
        "\n",
        "        # Adding Anti-Clockwise 90 Deg Rotated Image to list\n",
        "        rotated_anti_90 = cv.rotate(img, cv.ROTATE_90_COUNTERCLOCKWISE)\n",
        "        IMAGES.append(rotated_anti_90)\n",
        "        IMAGES_LABELS.append(subDirectory)\n",
        "\n",
        "        # Adding Clockwise 90 Deg Rotated Image to list\n",
        "        rotated_clock_90 = cv.rotate(img, cv.ROTATE_90_CLOCKWISE)\n",
        "        IMAGES.append(rotated_clock_90)\n",
        "        IMAGES_LABELS.append(subDirectory)\n",
        "\n",
        "  return np.array(IMAGES), np.array(IMAGES_LABELS)"
      ],
      "metadata": {
        "id": "SJI3qJcDKJHi"
      },
      "execution_count": null,
      "outputs": []
    },
    {
      "cell_type": "markdown",
      "source": [
        "**Images Size**"
      ],
      "metadata": {
        "id": "5uEHCGF_GWac"
      }
    },
    {
      "cell_type": "code",
      "source": [
        "images_size = (128, 128, 3)"
      ],
      "metadata": {
        "id": "wJyAMNIPL4p-"
      },
      "execution_count": null,
      "outputs": []
    },
    {
      "cell_type": "markdown",
      "source": [
        "**Dataset Paths**"
      ],
      "metadata": {
        "id": "wVXAjfZz61Ee"
      }
    },
    {
      "cell_type": "code",
      "source": [
        "PATHS = [\n",
        "    \"/content/drive/MyDrive/FYP/Datasets/1_FigShare/images\",\n",
        "    \"/content/drive/MyDrive/FYP/Datasets/2_Sartaj/Testing\",\n",
        "    \"/content/drive/MyDrive/FYP/Datasets/2_Sartaj/Training\"\n",
        "]"
      ],
      "metadata": {
        "id": "s8rRdCsg626f"
      },
      "execution_count": null,
      "outputs": []
    },
    {
      "cell_type": "markdown",
      "source": [
        "**Loading Images**"
      ],
      "metadata": {
        "id": "8d0na3gkGZ1I"
      }
    },
    {
      "cell_type": "code",
      "source": [
        "images, labels = load_images(images_size[0:2], PATHS)"
      ],
      "metadata": {
        "id": "9DiNgrq9GZhI"
      },
      "execution_count": null,
      "outputs": []
    },
    {
      "cell_type": "code",
      "source": [
        "print(images.shape)"
      ],
      "metadata": {
        "colab": {
          "base_uri": "https://localhost:8080/"
        },
        "id": "Bp0M8BghMIhK",
        "outputId": "3a629501-4e5a-40e2-fbbe-514b4bfee397"
      },
      "execution_count": null,
      "outputs": [
        {
          "output_type": "stream",
          "name": "stdout",
          "text": [
            "(31640, 128, 128, 3)\n"
          ]
        }
      ]
    },
    {
      "cell_type": "markdown",
      "source": [
        "**Show Image**"
      ],
      "metadata": {
        "id": "HUFFjnRRENfL"
      }
    },
    {
      "cell_type": "code",
      "source": [
        "from google.colab.patches import cv2_imshow\n",
        "def show_image(img):\n",
        "  cv2_imshow(img)\n",
        "\n",
        "show_image(images[0])\n",
        "show_image(images[1])\n",
        "show_image(images[2])\n",
        "show_image(images[3])\n",
        "show_image(images[4])"
      ],
      "metadata": {
        "colab": {
          "base_uri": "https://localhost:8080/",
          "height": 657
        },
        "id": "6C3SquYdEbZV",
        "outputId": "25ba33cf-28d9-470d-8c09-a8d282a04aa1"
      },
      "execution_count": null,
      "outputs": [
        {
          "output_type": "display_data",
          "data": {
            "text/plain": [
              "<PIL.Image.Image image mode=RGB size=128x128 at 0x7F69D01A3B50>"
            ],
            "image/png": "[encoded data removed]"
          },
          "metadata": {}
        },
        {
          "output_type": "display_data",
          "data": {
            "text/plain": [
              "<PIL.Image.Image image mode=RGB size=128x128 at 0x7F69D01BB760>"
            ],
            "image/png": "[encoded data removed]"
          },
          "metadata": {}
        },
        {
          "output_type": "display_data",
          "data": {
            "text/plain": [
              "<PIL.Image.Image image mode=RGB size=128x128 at 0x7F69D01CE160>"
            ],
            "image/png": "[encoded data removed]"
          },
          "metadata": {}
        },
        {
          "output_type": "display_data",
          "data": {
            "text/plain": [
              "<PIL.Image.Image image mode=RGB size=128x128 at 0x7F69D01BB7F0>"
            ],
            "image/png": "[encoded data removed]"
          },
          "metadata": {}
        },
        {
          "output_type": "display_data",
          "data": {
            "text/plain": [
              "<PIL.Image.Image image mode=RGB size=128x128 at 0x7F69D01BB760>"
            ],
            "image/png": "[encoded data removed]"
          },
          "metadata": {}
        }
      ]
    },
    {
      "cell_type": "markdown",
      "source": [
        "**Shuffling Images and Labels**"
      ],
      "metadata": {
        "id": "FdJb9VLSPkFQ"
      }
    },
    {
      "cell_type": "code",
      "source": [
        "Images, Labels = shuffle(images, labels, random_state=101)"
      ],
      "metadata": {
        "id": "55U5T6g4PNWB"
      },
      "execution_count": null,
      "outputs": []
    },
    {
      "cell_type": "code",
      "source": [
        "Images.shape"
      ],
      "metadata": {
        "colab": {
          "base_uri": "https://localhost:8080/"
        },
        "id": "XMDZHuOVcHTJ",
        "outputId": "2d51b30c-6253-4e25-da8f-8a575c4d3caf"
      },
      "execution_count": null,
      "outputs": [
        {
          "output_type": "execute_result",
          "data": {
            "text/plain": [
              "(31640, 128, 128, 3)"
            ]
          },
          "metadata": {},
          "execution_count": 16
        }
      ]
    },
    {
      "cell_type": "markdown",
      "source": [
        "**Spliting Images for Testing Dataset**"
      ],
      "metadata": {
        "id": "OszwDPfWcGxx"
      }
    },
    {
      "cell_type": "code",
      "source": [
        "rem_images, test_images, rem_labels, test_labels = train_test_split(Images, Labels, test_size = 0.15, random_state = 101)"
      ],
      "metadata": {
        "id": "d5Gs16N1cTHT"
      },
      "execution_count": null,
      "outputs": []
    },
    {
      "cell_type": "code",
      "source": [
        "print(rem_images.shape)\n",
        "print(test_images.shape)"
      ],
      "metadata": {
        "colab": {
          "base_uri": "https://localhost:8080/"
        },
        "id": "kK6Dy9iVcu0R",
        "outputId": "2eba5c42-01ce-46e0-ea35-1b47fe374ea7"
      },
      "execution_count": null,
      "outputs": [
        {
          "output_type": "stream",
          "name": "stdout",
          "text": [
            "(26894, 128, 128, 3)\n",
            "(4746, 128, 128, 3)\n"
          ]
        }
      ]
    },
    {
      "cell_type": "markdown",
      "source": [
        "**Spliting Images for Validation and Training**"
      ],
      "metadata": {
        "id": "nGNm2gyJc7J8"
      }
    },
    {
      "cell_type": "code",
      "source": [
        "train_images, val_images, train_labels, val_labels = train_test_split(rem_images, rem_labels, test_size = 0.15, random_state = 101)"
      ],
      "metadata": {
        "id": "Qwi72q0Bcuwh"
      },
      "execution_count": null,
      "outputs": []
    },
    {
      "cell_type": "code",
      "source": [
        "print(train_images.shape)\n",
        "print(val_images.shape)"
      ],
      "metadata": {
        "colab": {
          "base_uri": "https://localhost:8080/"
        },
        "id": "OgE4Ztzacus2",
        "outputId": "e45ed321-8594-4fea-cfc0-0bc75bbe0a47"
      },
      "execution_count": null,
      "outputs": [
        {
          "output_type": "stream",
          "name": "stdout",
          "text": [
            "(22859, 128, 128, 3)\n",
            "(4035, 128, 128, 3)\n"
          ]
        }
      ]
    },
    {
      "cell_type": "markdown",
      "source": [
        "**Converting Labels**"
      ],
      "metadata": {
        "id": "Wnb5h2pWdaAH"
      }
    },
    {
      "cell_type": "code",
      "source": [
        "print(train_labels)\n",
        "print(val_labels)\n",
        "print(test_labels)"
      ],
      "metadata": {
        "colab": {
          "base_uri": "https://localhost:8080/"
        },
        "id": "HoIwDQ-gdcCe",
        "outputId": "4b4f7208-9da0-4c42-967a-d732a01ded86"
      },
      "execution_count": null,
      "outputs": [
        {
          "output_type": "stream",
          "name": "stdout",
          "text": [
            "['meningioma' 'glioma' 'meningioma' ... 'glioma' 'pituitary' 'pituitary']\n",
            "['pituitary' 'meningioma' 'glioma' ... 'meningioma' 'meningioma'\n",
            " 'meningioma']\n",
            "['no_tumor' 'meningioma' 'glioma' ... 'no_tumor' 'pituitary' 'glioma']\n"
          ]
        }
      ]
    },
    {
      "cell_type": "code",
      "source": [
        "CLASSES = ['glioma', 'meningioma', 'pituitary', 'no_tumor']"
      ],
      "metadata": {
        "id": "y6pOcwEZzmuL"
      },
      "execution_count": null,
      "outputs": []
    },
    {
      "cell_type": "code",
      "source": [
        "temp_train = []\n",
        "for i in train_labels:\n",
        "    temp_train.append(CLASSES.index(i))\n",
        "train_labels = temp_train\n",
        "train_labels = tf.keras.utils.to_categorical(train_labels)\n",
        "\n",
        "temp_val = []\n",
        "for i in val_labels:\n",
        "    temp_val.append(CLASSES.index(i))\n",
        "val_labels = temp_val\n",
        "val_labels = tf.keras.utils.to_categorical(val_labels)\n",
        "\n",
        "temp_test = []\n",
        "for i in test_labels:\n",
        "    temp_test.append(CLASSES.index(i))\n",
        "test_labels = temp_test\n",
        "test_labels = tf.keras.utils.to_categorical(test_labels)\n"
      ],
      "metadata": {
        "id": "3ka3HeCLdb_U"
      },
      "execution_count": null,
      "outputs": []
    },
    {
      "cell_type": "code",
      "source": [
        "print(train_labels)\n",
        "print(val_labels)\n",
        "print(test_labels)"
      ],
      "metadata": {
        "colab": {
          "base_uri": "https://localhost:8080/"
        },
        "id": "H6EQwZMndb8R",
        "outputId": "4895e014-b32a-45da-8cf6-7c7faceae683"
      },
      "execution_count": null,
      "outputs": [
        {
          "output_type": "stream",
          "name": "stdout",
          "text": [
            "[[0. 1. 0. 0.]\n",
            " [1. 0. 0. 0.]\n",
            " [0. 1. 0. 0.]\n",
            " ...\n",
            " [1. 0. 0. 0.]\n",
            " [0. 0. 1. 0.]\n",
            " [0. 0. 1. 0.]]\n",
            "[[0. 0. 1. 0.]\n",
            " [0. 1. 0. 0.]\n",
            " [1. 0. 0. 0.]\n",
            " ...\n",
            " [0. 1. 0. 0.]\n",
            " [0. 1. 0. 0.]\n",
            " [0. 1. 0. 0.]]\n",
            "[[0. 0. 0. 1.]\n",
            " [0. 1. 0. 0.]\n",
            " [1. 0. 0. 0.]\n",
            " ...\n",
            " [0. 0. 0. 1.]\n",
            " [0. 0. 1. 0.]\n",
            " [1. 0. 0. 0.]]\n"
          ]
        }
      ]
    },
    {
      "cell_type": "markdown",
      "source": [
        "**Mounting to folder where models' .h5 file going to store**"
      ],
      "metadata": {
        "id": "Bt4CtF6u_1n2"
      }
    },
    {
      "cell_type": "code",
      "source": [
        "%cd /content/drive/MyDrive/FYP/Saved\\ Results/"
      ],
      "metadata": {
        "colab": {
          "base_uri": "https://localhost:8080/"
        },
        "id": "hhFHz2erAGor",
        "outputId": "d86a1429-ab25-4c40-9683-6f90aa0b9250"
      },
      "execution_count": null,
      "outputs": [
        {
          "output_type": "stream",
          "name": "stdout",
          "text": [
            "/content/drive/MyDrive/FYP/Saved Results\n"
          ]
        }
      ]
    },
    {
      "cell_type": "markdown",
      "source": [
        "# Retraining Models"
      ],
      "metadata": {
        "id": "Nqk75VWhqROP"
      }
    },
    {
      "cell_type": "code",
      "source": [
        "retrain_epochs = 10"
      ],
      "metadata": {
        "id": "akbONIJCqiIJ"
      },
      "execution_count": null,
      "outputs": []
    },
    {
      "cell_type": "code",
      "source": [
        "%ls"
      ],
      "metadata": {
        "colab": {
          "base_uri": "https://localhost:8080/"
        },
        "id": "mBS_3Dh-rYKF",
        "outputId": "253e02c3-c39e-46d0-8bac-2369c5564edb"
      },
      "execution_count": null,
      "outputs": [
        {
          "output_type": "stream",
          "name": "stdout",
          "text": [
            "ContrastImage_EfficientNetB4_20.h5        \u001b[0m\u001b[01;34mEfficientNetB4_training_20_epochs\u001b[0m/\n",
            "DenseNet121_20_10.h5                      InceptionV3_20.h5\n",
            "\u001b[01;34mDenseNet121_20_10_retraining__epochs\u001b[0m/     \u001b[01;34mInceptionV3_training_20_epochs\u001b[0m/\n",
            "DenseNet121_20.h5                         MobileNetV2_20.h5\n",
            "\u001b[01;34mDenseNet121_training_20_epochs\u001b[0m/           \u001b[01;34mMobileNetV2_training_20_epochs\u001b[0m/\n",
            "EfficientNetB4_20_10.h5                   ResNet50_20_10.h5\n",
            "\u001b[01;34mEfficientNetB4_20_10_retraining__epochs\u001b[0m/  \u001b[01;34mResNet50_20_10_retraining__epochs\u001b[0m/\n",
            "EfficientNetB4_20.h5                      ResNet50_20.h5\n",
            "\u001b[01;34mEfficientNetB4_20_retraining_10_epochs\u001b[0m/   \u001b[01;34mResNet50_training_20_epochs\u001b[0m/\n"
          ]
        }
      ]
    },
    {
      "cell_type": "markdown",
      "source": [
        "**DenseNet121**"
      ],
      "metadata": {
        "id": "cEDUDX2kwYzB"
      }
    },
    {
      "cell_type": "code",
      "source": [
        "model_path = \"DenseNet121_20.h5\"\n",
        "model_name = \"DenseNet121_20\"\n",
        "r_model = load_model(model_path)\n",
        "checkpoint_path = model_name + \"_\" + str(retrain_epochs) + \"_retraining_\" + \"_epochs/cp.ckpt\"\n",
        "checkpoint_dir = os.path.dirname(checkpoint_path)\n",
        "\n",
        "cp_callback = tf.keras.callbacks.ModelCheckpoint(filepath=checkpoint_path,\n",
        "                                                save_weights_only=True,\n",
        "                                                verbose=1)\n",
        "\n",
        "checkpoint = keras.callbacks.ModelCheckpoint(\"best_model\", save_best_only=True)\n",
        "stop_early = keras.callbacks.EarlyStopping(monitor='val_loss', patience=5)\n",
        "\n",
        "history = r_model.fit(train_images, train_labels, epochs=retrain_epochs, validation_data=(val_images, val_labels), callbacks=[stop_early, cp_callback])\n",
        "r_model.save(model_name + \"_\" + str(retrain_epochs) + \".h5\")\n",
        "\n",
        "test_loss, test_accuracy = r_model.evaluate(test_images, test_labels, verbose=2)\n",
        "print(test_loss, test_accuracy)\n",
        "pred = r_model.predict(test_images)\n",
        "pred = np.argmax(pred, axis=1)\n",
        "testLabels_new = np.argmax(test_labels, axis=1)\n",
        "print(classification_report(testLabels_new,pred))\n",
        "cm = confusion_matrix(testLabels_new, pred)\n",
        "print(cm)\n",
        "print(cm.diagonal()/cm.sum(axis=1))\n"
      ],
      "metadata": {
        "colab": {
          "base_uri": "https://localhost:8080/"
        },
        "id": "GqPKrBuFwagp",
        "outputId": "b36449e4-8ae9-40a7-e629-ca87ac48ce0f"
      },
      "execution_count": null,
      "outputs": [
        {
          "output_type": "stream",
          "name": "stdout",
          "text": [
            "Epoch 1/10\n",
            "715/715 [==============================] - ETA: 0s - loss: 0.0558 - accuracy: 0.9973\n",
            "Epoch 1: saving model to DenseNet121_20_10_retraining__epochs/cp.ckpt\n",
            "715/715 [==============================] - 107s 139ms/step - loss: 0.0558 - accuracy: 0.9973 - val_loss: 0.0754 - val_accuracy: 0.9903\n",
            "Epoch 2/10\n",
            "715/715 [==============================] - ETA: 0s - loss: 0.0543 - accuracy: 0.9972\n",
            "Epoch 2: saving model to DenseNet121_20_10_retraining__epochs/cp.ckpt\n",
            "715/715 [==============================] - 97s 135ms/step - loss: 0.0543 - accuracy: 0.9972 - val_loss: 0.0747 - val_accuracy: 0.9923\n",
            "Epoch 3/10\n",
            "715/715 [==============================] - ETA: 0s - loss: 0.0517 - accuracy: 0.9975\n",
            "Epoch 3: saving model to DenseNet121_20_10_retraining__epochs/cp.ckpt\n",
            "715/715 [==============================] - 96s 135ms/step - loss: 0.0517 - accuracy: 0.9975 - val_loss: 0.0659 - val_accuracy: 0.9926\n",
            "Epoch 4/10\n",
            "715/715 [==============================] - ETA: 0s - loss: 0.0528 - accuracy: 0.9976\n",
            "Epoch 4: saving model to DenseNet121_20_10_retraining__epochs/cp.ckpt\n",
            "715/715 [==============================] - 96s 135ms/step - loss: 0.0528 - accuracy: 0.9976 - val_loss: 0.0613 - val_accuracy: 0.9938\n",
            "Epoch 5/10\n",
            "715/715 [==============================] - ETA: 0s - loss: 0.0498 - accuracy: 0.9973\n",
            "Epoch 5: saving model to DenseNet121_20_10_retraining__epochs/cp.ckpt\n",
            "715/715 [==============================] - 96s 135ms/step - loss: 0.0498 - accuracy: 0.9973 - val_loss: 0.0583 - val_accuracy: 0.9953\n",
            "Epoch 6/10\n",
            "715/715 [==============================] - ETA: 0s - loss: 0.0451 - accuracy: 0.9985\n",
            "Epoch 6: saving model to DenseNet121_20_10_retraining__epochs/cp.ckpt\n",
            "715/715 [==============================] - 96s 135ms/step - loss: 0.0451 - accuracy: 0.9985 - val_loss: 0.0534 - val_accuracy: 0.9955\n",
            "Epoch 7/10\n",
            "715/715 [==============================] - ETA: 0s - loss: 0.0459 - accuracy: 0.9979\n",
            "Epoch 7: saving model to DenseNet121_20_10_retraining__epochs/cp.ckpt\n",
            "715/715 [==============================] - 96s 134ms/step - loss: 0.0459 - accuracy: 0.9979 - val_loss: 0.0818 - val_accuracy: 0.9871\n",
            "Epoch 8/10\n",
            "715/715 [==============================] - ETA: 0s - loss: 0.0495 - accuracy: 0.9965\n",
            "Epoch 8: saving model to DenseNet121_20_10_retraining__epochs/cp.ckpt\n",
            "715/715 [==============================] - 96s 135ms/step - loss: 0.0495 - accuracy: 0.9965 - val_loss: 0.1053 - val_accuracy: 0.9884\n",
            "Epoch 9/10\n",
            "715/715 [==============================] - ETA: 0s - loss: 0.0489 - accuracy: 0.9971\n",
            "Epoch 9: saving model to DenseNet121_20_10_retraining__epochs/cp.ckpt\n",
            "715/715 [==============================] - 97s 135ms/step - loss: 0.0489 - accuracy: 0.9971 - val_loss: 0.0608 - val_accuracy: 0.9921\n",
            "Epoch 10/10\n",
            "715/715 [==============================] - ETA: 0s - loss: 0.0438 - accuracy: 0.9977\n",
            "Epoch 10: saving model to DenseNet121_20_10_retraining__epochs/cp.ckpt\n",
            "715/715 [==============================] - 96s 135ms/step - loss: 0.0438 - accuracy: 0.9977 - val_loss: 0.0560 - val_accuracy: 0.9943\n",
            "149/149 - 5s - loss: 0.0516 - accuracy: 0.9949 - 5s/epoch - 34ms/step\n",
            "0.05157323181629181 0.9949430823326111\n",
            "149/149 [==============================] - 7s 31ms/step\n",
            "              precision    recall  f1-score   support\n",
            "\n",
            "           0       1.00      1.00      1.00      1725\n",
            "           1       0.99      0.99      0.99      1214\n",
            "           2       0.99      1.00      1.00      1428\n",
            "           3       1.00      0.99      1.00       379\n",
            "\n",
            "    accuracy                           0.99      4746\n",
            "   macro avg       1.00      0.99      1.00      4746\n",
            "weighted avg       0.99      0.99      0.99      4746\n",
            "\n",
            "[[1718    7    0    0]\n",
            " [   6 1200    8    0]\n",
            " [   0    1 1427    0]\n",
            " [   1    0    1  377]]\n",
            "[0.99594203 0.98846787 0.99929972 0.99472296]\n"
          ]
        }
      ]
    },
    {
      "cell_type": "markdown",
      "source": [
        "**EfficientNetB4**"
      ],
      "metadata": {
        "id": "TedqAwibDuXf"
      }
    },
    {
      "cell_type": "code",
      "source": [
        "model_path = \"EfficientNetB4_20_10.h5\"\n",
        "model_name = \"EfficientNetB4_20_10\"\n",
        "r_model = load_model(model_path)\n",
        "checkpoint_path = model_name + \"_\" + str(retrain_epochs) + \"_retraining_\" + \"_epochs/cp.ckpt\"\n",
        "checkpoint_dir = os.path.dirname(checkpoint_path)\n",
        "\n",
        "cp_callback = tf.keras.callbacks.ModelCheckpoint(filepath=checkpoint_path,\n",
        "                                                save_weights_only=True,\n",
        "                                                verbose=1)\n",
        "\n",
        "checkpoint = keras.callbacks.ModelCheckpoint(\"best_model\", save_best_only=True)\n",
        "stop_early = keras.callbacks.EarlyStopping(monitor='val_loss', patience=5)\n",
        "\n",
        "history = r_model.fit(train_images, train_labels, epochs=retrain_epochs, validation_data=(val_images, val_labels), callbacks=[stop_early, cp_callback])\n",
        "r_model.save(model_name + \"_\" + str(retrain_epochs) + \".h5\")\n",
        "\n",
        "test_loss, test_accuracy = r_model.evaluate(test_images, test_labels, verbose=2)\n",
        "print(test_loss, test_accuracy)\n",
        "pred = r_model.predict(test_images)\n",
        "pred = np.argmax(pred, axis=1)\n",
        "testLabels_new = np.argmax(test_labels, axis=1)\n",
        "print(classification_report(testLabels_new,pred))\n",
        "cm = confusion_matrix(testLabels_new, pred)\n",
        "print(cm)\n",
        "print(cm.diagonal()/cm.sum(axis=1))\n"
      ],
      "metadata": {
        "colab": {
          "base_uri": "https://localhost:8080/"
        },
        "id": "sFzjIM0-r-eP",
        "outputId": "821fc444-c7a0-4c1f-bd5b-5cb4dd53809e"
      },
      "execution_count": null,
      "outputs": [
        {
          "output_type": "stream",
          "name": "stdout",
          "text": [
            "Epoch 1/10\n",
            "715/715 [==============================] - ETA: 0s - loss: 0.0434 - accuracy: 0.9989\n",
            "Epoch 1: saving model to EfficientNetB4_20_10_10_retraining__epochs/cp.ckpt\n",
            "715/715 [==============================] - 222s 275ms/step - loss: 0.0434 - accuracy: 0.9989 - val_loss: 0.0483 - val_accuracy: 0.9968\n",
            "Epoch 2/10\n",
            "715/715 [==============================] - ETA: 0s - loss: 0.0471 - accuracy: 0.9978\n",
            "Epoch 2: saving model to EfficientNetB4_20_10_10_retraining__epochs/cp.ckpt\n",
            "715/715 [==============================] - 194s 271ms/step - loss: 0.0471 - accuracy: 0.9978 - val_loss: 0.0596 - val_accuracy: 0.9913\n",
            "Epoch 3/10\n",
            "715/715 [==============================] - ETA: 0s - loss: 0.0444 - accuracy: 0.9983\n",
            "Epoch 3: saving model to EfficientNetB4_20_10_10_retraining__epochs/cp.ckpt\n",
            "715/715 [==============================] - 197s 276ms/step - loss: 0.0444 - accuracy: 0.9983 - val_loss: 0.0432 - val_accuracy: 0.9973\n",
            "Epoch 4/10\n",
            "715/715 [==============================] - ETA: 0s - loss: 0.0417 - accuracy: 0.9980\n",
            "Epoch 4: saving model to EfficientNetB4_20_10_10_retraining__epochs/cp.ckpt\n",
            "715/715 [==============================] - 196s 275ms/step - loss: 0.0417 - accuracy: 0.9980 - val_loss: 0.0443 - val_accuracy: 0.9975\n",
            "Epoch 5/10\n",
            "715/715 [==============================] - ETA: 0s - loss: 0.0431 - accuracy: 0.9984\n",
            "Epoch 5: saving model to EfficientNetB4_20_10_10_retraining__epochs/cp.ckpt\n",
            "715/715 [==============================] - 194s 271ms/step - loss: 0.0431 - accuracy: 0.9984 - val_loss: 0.0461 - val_accuracy: 0.9973\n",
            "Epoch 6/10\n",
            "715/715 [==============================] - ETA: 0s - loss: 0.0388 - accuracy: 0.9988\n",
            "Epoch 6: saving model to EfficientNetB4_20_10_10_retraining__epochs/cp.ckpt\n",
            "715/715 [==============================] - 193s 270ms/step - loss: 0.0388 - accuracy: 0.9988 - val_loss: 0.0448 - val_accuracy: 0.9970\n",
            "Epoch 7/10\n",
            "715/715 [==============================] - ETA: 0s - loss: 0.0386 - accuracy: 0.9987\n",
            "Epoch 7: saving model to EfficientNetB4_20_10_10_retraining__epochs/cp.ckpt\n",
            "715/715 [==============================] - 194s 271ms/step - loss: 0.0386 - accuracy: 0.9987 - val_loss: 0.0450 - val_accuracy: 0.9968\n",
            "Epoch 8/10\n",
            "715/715 [==============================] - ETA: 0s - loss: 0.0435 - accuracy: 0.9979\n",
            "Epoch 8: saving model to EfficientNetB4_20_10_10_retraining__epochs/cp.ckpt\n",
            "715/715 [==============================] - 196s 274ms/step - loss: 0.0435 - accuracy: 0.9979 - val_loss: 0.0402 - val_accuracy: 0.9978\n",
            "Epoch 9/10\n",
            "715/715 [==============================] - ETA: 0s - loss: 0.0396 - accuracy: 0.9987\n",
            "Epoch 9: saving model to EfficientNetB4_20_10_10_retraining__epochs/cp.ckpt\n",
            "715/715 [==============================] - 194s 271ms/step - loss: 0.0396 - accuracy: 0.9987 - val_loss: 0.0441 - val_accuracy: 0.9978\n",
            "Epoch 10/10\n",
            "715/715 [==============================] - ETA: 0s - loss: 0.0388 - accuracy: 0.9989\n",
            "Epoch 10: saving model to EfficientNetB4_20_10_10_retraining__epochs/cp.ckpt\n",
            "715/715 [==============================] - 196s 273ms/step - loss: 0.0388 - accuracy: 0.9989 - val_loss: 0.0401 - val_accuracy: 0.9970\n",
            "149/149 - 9s - loss: 0.0505 - accuracy: 0.9960 - 9s/epoch - 61ms/step\n",
            "0.05047844722867012 0.9959966540336609\n",
            "149/149 [==============================] - 11s 55ms/step\n",
            "              precision    recall  f1-score   support\n",
            "\n",
            "           0       1.00      1.00      1.00      1725\n",
            "           1       0.99      0.99      0.99      1214\n",
            "           2       1.00      0.99      0.99      1428\n",
            "           3       1.00      1.00      1.00       379\n",
            "\n",
            "    accuracy                           1.00      4746\n",
            "   macro avg       1.00      1.00      1.00      4746\n",
            "weighted avg       1.00      1.00      1.00      4746\n",
            "\n",
            "[[1724    0    0    1]\n",
            " [   3 1205    6    0]\n",
            " [   1    8 1419    0]\n",
            " [   0    0    0  379]]\n",
            "[0.99942029 0.99258649 0.99369748 1.        ]\n"
          ]
        }
      ]
    },
    {
      "cell_type": "markdown",
      "source": [
        "**ResNet-50**"
      ],
      "metadata": {
        "id": "BOi83IQGD0Ox"
      }
    },
    {
      "cell_type": "code",
      "source": [
        "model_path = \"ResNet50_20.h5\"\n",
        "model_name = \"ResNet50_20\"\n",
        "r_model = load_model(model_path)\n",
        "checkpoint_path = model_name + \"_\" + str(retrain_epochs) + \"_retraining_\" + \"_epochs/cp.ckpt\"\n",
        "checkpoint_dir = os.path.dirname(checkpoint_path)\n",
        "\n",
        "cp_callback = tf.keras.callbacks.ModelCheckpoint(filepath=checkpoint_path,\n",
        "                                                save_weights_only=True,\n",
        "                                                verbose=1)\n",
        "\n",
        "checkpoint = keras.callbacks.ModelCheckpoint(\"best_model\", save_best_only=True)\n",
        "stop_early = keras.callbacks.EarlyStopping(monitor='val_loss', patience=5)\n",
        "\n",
        "history = r_model.fit(train_images, train_labels, epochs=retrain_epochs, validation_data=(val_images, val_labels), callbacks=[stop_early, cp_callback])\n",
        "r_model.save(model_name + \"_\" + str(retrain_epochs) + \".h5\")\n",
        "\n",
        "test_loss, test_accuracy = r_model.evaluate(test_images, test_labels, verbose=2)\n",
        "print(test_loss, test_accuracy)\n",
        "pred = r_model.predict(test_images)\n",
        "pred = np.argmax(pred, axis=1)\n",
        "testLabels_new = np.argmax(test_labels, axis=1)\n",
        "print(classification_report(testLabels_new,pred))\n",
        "cm = confusion_matrix(testLabels_new, pred)\n",
        "print(cm)\n",
        "print(cm.diagonal()/cm.sum(axis=1))\n"
      ],
      "metadata": {
        "id": "6TquUi4Jrl4p",
        "colab": {
          "base_uri": "https://localhost:8080/"
        },
        "outputId": "cd687ebc-70c3-468c-9a23-273aa7dd29e8"
      },
      "execution_count": null,
      "outputs": [
        {
          "output_type": "stream",
          "name": "stdout",
          "text": [
            "Epoch 1/10\n",
            "715/715 [==============================] - ETA: 0s - loss: 0.0753 - accuracy: 0.9956\n",
            "Epoch 1: saving model to ResNet50_20_10_retraining__epochs/cp.ckpt\n",
            "715/715 [==============================] - 109s 133ms/step - loss: 0.0753 - accuracy: 0.9956 - val_loss: 0.1422 - val_accuracy: 0.9752\n",
            "Epoch 2/10\n",
            "715/715 [==============================] - ETA: 0s - loss: 0.0721 - accuracy: 0.9965\n",
            "Epoch 2: saving model to ResNet50_20_10_retraining__epochs/cp.ckpt\n",
            "715/715 [==============================] - 95s 133ms/step - loss: 0.0721 - accuracy: 0.9965 - val_loss: 0.0774 - val_accuracy: 0.9913\n",
            "Epoch 3/10\n",
            "715/715 [==============================] - ETA: 0s - loss: 0.0638 - accuracy: 0.9977\n",
            "Epoch 3: saving model to ResNet50_20_10_retraining__epochs/cp.ckpt\n",
            "715/715 [==============================] - 95s 133ms/step - loss: 0.0638 - accuracy: 0.9977 - val_loss: 0.1157 - val_accuracy: 0.9804\n",
            "Epoch 4/10\n",
            "715/715 [==============================] - ETA: 0s - loss: 0.0679 - accuracy: 0.9967\n",
            "Epoch 4: saving model to ResNet50_20_10_retraining__epochs/cp.ckpt\n",
            "715/715 [==============================] - 95s 133ms/step - loss: 0.0679 - accuracy: 0.9967 - val_loss: 0.0904 - val_accuracy: 0.9898\n",
            "Epoch 5/10\n",
            "715/715 [==============================] - ETA: 0s - loss: 0.0655 - accuracy: 0.9966\n",
            "Epoch 5: saving model to ResNet50_20_10_retraining__epochs/cp.ckpt\n",
            "715/715 [==============================] - 96s 135ms/step - loss: 0.0655 - accuracy: 0.9966 - val_loss: 0.1040 - val_accuracy: 0.9881\n",
            "Epoch 6/10\n",
            "715/715 [==============================] - ETA: 0s - loss: 0.0673 - accuracy: 0.9962\n",
            "Epoch 6: saving model to ResNet50_20_10_retraining__epochs/cp.ckpt\n",
            "715/715 [==============================] - 95s 133ms/step - loss: 0.0673 - accuracy: 0.9962 - val_loss: 0.0838 - val_accuracy: 0.9908\n",
            "Epoch 7/10\n",
            "715/715 [==============================] - ETA: 0s - loss: 0.0631 - accuracy: 0.9969\n",
            "Epoch 7: saving model to ResNet50_20_10_retraining__epochs/cp.ckpt\n",
            "715/715 [==============================] - 96s 135ms/step - loss: 0.0631 - accuracy: 0.9969 - val_loss: 0.0774 - val_accuracy: 0.9911\n",
            "Epoch 8/10\n",
            "715/715 [==============================] - ETA: 0s - loss: 0.0568 - accuracy: 0.9979\n",
            "Epoch 8: saving model to ResNet50_20_10_retraining__epochs/cp.ckpt\n",
            "715/715 [==============================] - 95s 133ms/step - loss: 0.0568 - accuracy: 0.9979 - val_loss: 0.1109 - val_accuracy: 0.9839\n",
            "Epoch 9/10\n",
            "715/715 [==============================] - ETA: 0s - loss: 0.0657 - accuracy: 0.9959\n",
            "Epoch 9: saving model to ResNet50_20_10_retraining__epochs/cp.ckpt\n",
            "715/715 [==============================] - 96s 135ms/step - loss: 0.0657 - accuracy: 0.9959 - val_loss: 0.0946 - val_accuracy: 0.9884\n",
            "Epoch 10/10\n",
            "715/715 [==============================] - ETA: 0s - loss: 0.0631 - accuracy: 0.9963\n",
            "Epoch 10: saving model to ResNet50_20_10_retraining__epochs/cp.ckpt\n",
            "715/715 [==============================] - 95s 133ms/step - loss: 0.0631 - accuracy: 0.9963 - val_loss: 0.0986 - val_accuracy: 0.9869\n",
            "149/149 - 5s - loss: 0.1044 - accuracy: 0.9857 - 5s/epoch - 37ms/step\n",
            "0.10435346513986588 0.985672116279602\n",
            "149/149 [==============================] - 6s 33ms/step\n",
            "              precision    recall  f1-score   support\n",
            "\n",
            "           0       0.99      0.98      0.99      1725\n",
            "           1       0.97      0.98      0.98      1214\n",
            "           2       0.99      0.99      0.99      1428\n",
            "           3       0.99      0.98      0.99       379\n",
            "\n",
            "    accuracy                           0.99      4746\n",
            "   macro avg       0.99      0.99      0.99      4746\n",
            "weighted avg       0.99      0.99      0.99      4746\n",
            "\n",
            "[[1699   20    2    4]\n",
            " [  12 1192   10    0]\n",
            " [   5    9 1414    0]\n",
            " [   2    3    1  373]]\n",
            "[0.98492754 0.98187809 0.99019608 0.98416887]\n"
          ]
        }
      ]
    },
    {
      "cell_type": "markdown",
      "source": [
        "**Training Code**"
      ],
      "metadata": {
        "id": "iH8vj9n5qfD_"
      }
    },
    {
      "cell_type": "code",
      "source": [
        "epoch_number = 20"
      ],
      "metadata": {
        "id": "C0xmS1OOI_ur"
      },
      "execution_count": null,
      "outputs": []
    },
    {
      "cell_type": "markdown",
      "source": [
        "# EfficientNetB4"
      ],
      "metadata": {
        "id": "8fnbXm3-ec1R"
      }
    },
    {
      "cell_type": "code",
      "source": [
        "model_name='EfficientNetB4'\n",
        "base_model=tf.keras.applications.EfficientNetB4(include_top=False, weights=\"imagenet\",input_shape=images_size, pooling='max') \n",
        "x=base_model.output\n",
        "x=keras.layers.BatchNormalization(axis=-1, momentum=0.99, epsilon=0.001 )(x)\n",
        "x = Dense(256, kernel_regularizer = regularizers.l2(l = 0.016),activity_regularizer=regularizers.l1(0.006),\n",
        "                bias_regularizer=regularizers.l1(0.006) ,activation='relu')(x)\n",
        "x=Dropout(rate=.45, seed=123)(x)        \n",
        "output=Dense(4, activation='softmax')(x)\n",
        "model=Model(inputs=base_model.input, outputs=output)\n",
        "model.compile(Adamax(learning_rate=.001), loss='categorical_crossentropy', metrics=['accuracy']) "
      ],
      "metadata": {
        "id": "NaHEetU2GSba",
        "colab": {
          "base_uri": "https://localhost:8080/"
        },
        "outputId": "f629ce2e-7571-466b-a306-2f0b6256dc31"
      },
      "execution_count": null,
      "outputs": [
        {
          "output_type": "stream",
          "name": "stdout",
          "text": [
            "Downloading data from https://storage.googleapis.com/keras-applications/efficientnetb4_notop.h5\n",
            "71686520/71686520 [==============================] - 0s 0us/step\n"
          ]
        }
      ]
    },
    {
      "cell_type": "code",
      "source": [
        "checkpoint_path = model_name + \"_training_\" + str(epoch_number) + \"_epochs/cp.ckpt\"\n",
        "checkpoint_dir = os.path.dirname(checkpoint_path)\n",
        "\n",
        "cp_callback = tf.keras.callbacks.ModelCheckpoint(filepath=checkpoint_path,\n",
        "                                                 save_weights_only=True,\n",
        "                                                 verbose=1)\n",
        "\n",
        "checkpoint = keras.callbacks.ModelCheckpoint(\"best_model\", save_best_only=True)\n",
        "stop_early = keras.callbacks.EarlyStopping(monitor='val_loss', patience=5)"
      ],
      "metadata": {
        "id": "iuH57PnYhNwg"
      },
      "execution_count": null,
      "outputs": []
    },
    {
      "cell_type": "code",
      "source": [
        "history = model.fit(train_images, train_labels, epochs=epoch_number, validation_data=(val_images, val_labels), callbacks=[stop_early, cp_callback])"
      ],
      "metadata": {
        "colab": {
          "base_uri": "https://localhost:8080/"
        },
        "id": "lAVQ_r28hIh-",
        "outputId": "5f6e8513-bb5d-48da-a55d-64da86d9c272"
      },
      "execution_count": null,
      "outputs": [
        {
          "output_type": "stream",
          "name": "stdout",
          "text": [
            "Epoch 1/20\n",
            "715/715 [==============================] - ETA: 0s - loss: 4.1005 - accuracy: 0.8804\n",
            "Epoch 1: saving model to EfficientNetB4_training_20_epochs/cp.ckpt\n",
            "715/715 [==============================] - 231s 270ms/step - loss: 4.1005 - accuracy: 0.8804 - val_loss: 1.5043 - val_accuracy: 0.9779\n",
            "Epoch 2/20\n",
            "715/715 [==============================] - ETA: 0s - loss: 0.7907 - accuracy: 0.9712\n",
            "Epoch 2: saving model to EfficientNetB4_training_20_epochs/cp.ckpt\n",
            "715/715 [==============================] - 190s 266ms/step - loss: 0.7907 - accuracy: 0.9712 - val_loss: 0.3177 - val_accuracy: 0.9913\n",
            "Epoch 3/20\n",
            "715/715 [==============================] - ETA: 0s - loss: 0.2676 - accuracy: 0.9829\n",
            "Epoch 3: saving model to EfficientNetB4_training_20_epochs/cp.ckpt\n",
            "715/715 [==============================] - 191s 267ms/step - loss: 0.2676 - accuracy: 0.9829 - val_loss: 0.1744 - val_accuracy: 0.9916\n",
            "Epoch 4/20\n",
            "715/715 [==============================] - ETA: 0s - loss: 0.1798 - accuracy: 0.9885\n",
            "Epoch 4: saving model to EfficientNetB4_training_20_epochs/cp.ckpt\n",
            "715/715 [==============================] - 190s 266ms/step - loss: 0.1798 - accuracy: 0.9885 - val_loss: 0.1347 - val_accuracy: 0.9931\n",
            "Epoch 5/20\n",
            "715/715 [==============================] - ETA: 0s - loss: 0.1433 - accuracy: 0.9921\n",
            "Epoch 5: saving model to EfficientNetB4_training_20_epochs/cp.ckpt\n",
            "715/715 [==============================] - 189s 265ms/step - loss: 0.1433 - accuracy: 0.9921 - val_loss: 0.1123 - val_accuracy: 0.9963\n",
            "Epoch 6/20\n",
            "715/715 [==============================] - ETA: 0s - loss: 0.1286 - accuracy: 0.9927\n",
            "Epoch 6: saving model to EfficientNetB4_training_20_epochs/cp.ckpt\n",
            "715/715 [==============================] - 189s 265ms/step - loss: 0.1286 - accuracy: 0.9927 - val_loss: 0.1133 - val_accuracy: 0.9960\n",
            "Epoch 7/20\n",
            "715/715 [==============================] - ETA: 0s - loss: 0.1120 - accuracy: 0.9947\n",
            "Epoch 7: saving model to EfficientNetB4_training_20_epochs/cp.ckpt\n",
            "715/715 [==============================] - 188s 263ms/step - loss: 0.1120 - accuracy: 0.9947 - val_loss: 0.0905 - val_accuracy: 0.9965\n",
            "Epoch 8/20\n",
            "715/715 [==============================] - ETA: 0s - loss: 0.0995 - accuracy: 0.9954\n",
            "Epoch 8: saving model to EfficientNetB4_training_20_epochs/cp.ckpt\n",
            "715/715 [==============================] - 189s 265ms/step - loss: 0.0995 - accuracy: 0.9954 - val_loss: 0.0937 - val_accuracy: 0.9955\n",
            "Epoch 9/20\n",
            "715/715 [==============================] - ETA: 0s - loss: 0.0916 - accuracy: 0.9962\n",
            "Epoch 9: saving model to EfficientNetB4_training_20_epochs/cp.ckpt\n",
            "715/715 [==============================] - 189s 265ms/step - loss: 0.0916 - accuracy: 0.9962 - val_loss: 0.0766 - val_accuracy: 0.9960\n",
            "Epoch 10/20\n",
            "715/715 [==============================] - ETA: 0s - loss: 0.0873 - accuracy: 0.9962\n",
            "Epoch 10: saving model to EfficientNetB4_training_20_epochs/cp.ckpt\n",
            "715/715 [==============================] - 189s 265ms/step - loss: 0.0873 - accuracy: 0.9962 - val_loss: 0.0707 - val_accuracy: 0.9975\n",
            "Epoch 11/20\n",
            "715/715 [==============================] - ETA: 0s - loss: 0.0768 - accuracy: 0.9980\n",
            "Epoch 11: saving model to EfficientNetB4_training_20_epochs/cp.ckpt\n",
            "715/715 [==============================] - 194s 271ms/step - loss: 0.0768 - accuracy: 0.9980 - val_loss: 0.0693 - val_accuracy: 0.9965\n",
            "Epoch 12/20\n",
            "715/715 [==============================] - ETA: 0s - loss: 0.0770 - accuracy: 0.9965\n",
            "Epoch 12: saving model to EfficientNetB4_training_20_epochs/cp.ckpt\n",
            "715/715 [==============================] - 194s 271ms/step - loss: 0.0770 - accuracy: 0.9965 - val_loss: 0.0779 - val_accuracy: 0.9955\n",
            "Epoch 13/20\n",
            "715/715 [==============================] - ETA: 0s - loss: 0.0744 - accuracy: 0.9966\n",
            "Epoch 13: saving model to EfficientNetB4_training_20_epochs/cp.ckpt\n",
            "715/715 [==============================] - 190s 266ms/step - loss: 0.0744 - accuracy: 0.9966 - val_loss: 0.0658 - val_accuracy: 0.9968\n",
            "Epoch 14/20\n",
            "715/715 [==============================] - ETA: 0s - loss: 0.0680 - accuracy: 0.9979\n",
            "Epoch 14: saving model to EfficientNetB4_training_20_epochs/cp.ckpt\n",
            "715/715 [==============================] - 192s 268ms/step - loss: 0.0680 - accuracy: 0.9979 - val_loss: 0.0596 - val_accuracy: 0.9968\n",
            "Epoch 15/20\n",
            "715/715 [==============================] - ETA: 0s - loss: 0.0663 - accuracy: 0.9975\n",
            "Epoch 15: saving model to EfficientNetB4_training_20_epochs/cp.ckpt\n",
            "715/715 [==============================] - 190s 266ms/step - loss: 0.0663 - accuracy: 0.9975 - val_loss: 0.0653 - val_accuracy: 0.9960\n",
            "Epoch 16/20\n",
            "715/715 [==============================] - ETA: 0s - loss: 0.0612 - accuracy: 0.9984\n",
            "Epoch 16: saving model to EfficientNetB4_training_20_epochs/cp.ckpt\n",
            "715/715 [==============================] - 190s 265ms/step - loss: 0.0612 - accuracy: 0.9984 - val_loss: 0.0551 - val_accuracy: 0.9975\n",
            "Epoch 17/20\n",
            "715/715 [==============================] - ETA: 0s - loss: 0.0610 - accuracy: 0.9976\n",
            "Epoch 17: saving model to EfficientNetB4_training_20_epochs/cp.ckpt\n",
            "715/715 [==============================] - 190s 265ms/step - loss: 0.0610 - accuracy: 0.9976 - val_loss: 0.0506 - val_accuracy: 0.9975\n",
            "Epoch 18/20\n",
            "715/715 [==============================] - ETA: 0s - loss: 0.0634 - accuracy: 0.9979\n",
            "Epoch 18: saving model to EfficientNetB4_training_20_epochs/cp.ckpt\n",
            "715/715 [==============================] - 190s 265ms/step - loss: 0.0634 - accuracy: 0.9979 - val_loss: 0.0583 - val_accuracy: 0.9958\n",
            "Epoch 19/20\n",
            "715/715 [==============================] - ETA: 0s - loss: 0.0587 - accuracy: 0.9979\n",
            "Epoch 19: saving model to EfficientNetB4_training_20_epochs/cp.ckpt\n",
            "715/715 [==============================] - 189s 265ms/step - loss: 0.0587 - accuracy: 0.9979 - val_loss: 0.0543 - val_accuracy: 0.9980\n",
            "Epoch 20/20\n",
            "715/715 [==============================] - ETA: 0s - loss: 0.0552 - accuracy: 0.9985\n",
            "Epoch 20: saving model to EfficientNetB4_training_20_epochs/cp.ckpt\n",
            "715/715 [==============================] - 190s 266ms/step - loss: 0.0552 - accuracy: 0.9985 - val_loss: 0.0535 - val_accuracy: 0.9973\n"
          ]
        }
      ]
    },
    {
      "cell_type": "code",
      "source": [
        "test_loss, test_accuracy = model.evaluate(test_images, test_labels, verbose=2)"
      ],
      "metadata": {
        "id": "US89_bzj8z6u",
        "colab": {
          "base_uri": "https://localhost:8080/"
        },
        "outputId": "76ce89b2-a6cf-47f2-a9ee-f1d41ecb93ac"
      },
      "execution_count": null,
      "outputs": [
        {
          "output_type": "stream",
          "name": "stdout",
          "text": [
            "149/149 - 9s - loss: 0.0530 - accuracy: 0.9977 - 9s/epoch - 59ms/step\n"
          ]
        }
      ]
    },
    {
      "cell_type": "code",
      "source": [
        "print(test_loss, test_accuracy)"
      ],
      "metadata": {
        "id": "JCs6-WSd9BaO",
        "colab": {
          "base_uri": "https://localhost:8080/"
        },
        "outputId": "7d96facf-8d05-41ee-8882-7d2ea8837e45"
      },
      "execution_count": null,
      "outputs": [
        {
          "output_type": "stream",
          "name": "stdout",
          "text": [
            "0.05302863568067551 0.9976822733879089\n"
          ]
        }
      ]
    },
    {
      "cell_type": "code",
      "source": [
        "pred = model.predict(test_images)\n",
        "pred = np.argmax(pred, axis=1)\n",
        "testLabels_new = np.argmax(test_labels, axis=1)"
      ],
      "metadata": {
        "id": "iMFtHHcx84Vm",
        "colab": {
          "base_uri": "https://localhost:8080/"
        },
        "outputId": "d5c55cbe-92da-4f45-b3a7-4ac6b11a8875"
      },
      "execution_count": null,
      "outputs": [
        {
          "output_type": "stream",
          "name": "stdout",
          "text": [
            "149/149 [==============================] - 12s 53ms/step\n"
          ]
        }
      ]
    },
    {
      "cell_type": "code",
      "source": [
        "print(classification_report(testLabels_new,pred))\n",
        "cm = confusion_matrix(testLabels_new, pred)\n",
        "cm"
      ],
      "metadata": {
        "id": "zZ8r7lgO8-KJ",
        "colab": {
          "base_uri": "https://localhost:8080/"
        },
        "outputId": "859edccc-dc0f-4047-cabb-77bab4b78a4f"
      },
      "execution_count": null,
      "outputs": [
        {
          "output_type": "stream",
          "name": "stdout",
          "text": [
            "              precision    recall  f1-score   support\n",
            "\n",
            "           0       1.00      1.00      1.00      1725\n",
            "           1       1.00      0.99      1.00      1214\n",
            "           2       0.99      1.00      1.00      1428\n",
            "           3       0.99      1.00      1.00       379\n",
            "\n",
            "    accuracy                           1.00      4746\n",
            "   macro avg       1.00      1.00      1.00      4746\n",
            "weighted avg       1.00      1.00      1.00      4746\n",
            "\n"
          ]
        },
        {
          "output_type": "execute_result",
          "data": {
            "text/plain": [
              "array([[1723,    0,    0,    2],\n",
              "       [   0, 1206,    8,    0],\n",
              "       [   0,    1, 1427,    0],\n",
              "       [   0,    0,    0,  379]])"
            ]
          },
          "metadata": {},
          "execution_count": 34
        }
      ]
    },
    {
      "cell_type": "code",
      "source": [
        "cm.diagonal()/cm.sum(axis=1)"
      ],
      "metadata": {
        "id": "0rxp4-Rg9ABM",
        "colab": {
          "base_uri": "https://localhost:8080/"
        },
        "outputId": "1e188592-76d8-4d22-c7d8-bd1a3e54f59c"
      },
      "execution_count": null,
      "outputs": [
        {
          "output_type": "execute_result",
          "data": {
            "text/plain": [
              "array([0.99884058, 0.99341021, 0.99929972, 1.        ])"
            ]
          },
          "metadata": {},
          "execution_count": 35
        }
      ]
    },
    {
      "cell_type": "code",
      "source": [
        "plt.plot(history.history['accuracy'], label='Accuracy')\n",
        "plt.plot(history.history['val_accuracy'], label=\"Val Accuracy\")\n",
        "plt.plot(history.history['loss'], label='Loss')\n",
        "plt.plot(history.history['val_loss'], label=\"Val Loss\")\n",
        "plt.xlabel('Epoch')\n",
        "plt.ylabel('Accuracy & Loss')\n",
        "ax = plt.subplot(111)\n",
        "ax.legend(loc='upper center', bbox_to_anchor=(1.5,0.5),\n",
        "          ncol=3, fancybox=True, shadow=True)"
      ],
      "metadata": {
        "id": "UDTBBw2u-Ncs",
        "colab": {
          "base_uri": "https://localhost:8080/",
          "height": 466
        },
        "outputId": "50b53914-e495-4e83-9f79-1e4b34ff9e53"
      },
      "execution_count": null,
      "outputs": [
        {
          "output_type": "execute_result",
          "data": {
            "text/plain": [
              "<matplotlib.legend.Legend at 0x7f9a49fd4f70>"
            ]
          },
          "metadata": {},
          "execution_count": 36
        },
        {
          "output_type": "display_data",
          "data": {
            "text/plain": [
              "<Figure size 640x480 with 1 Axes>"
            ],
            "image/png": "[encoded data removed]"
          },
          "metadata": {}
        }
      ]
    },
    {
      "cell_type": "code",
      "source": [
        "model.save(\"ContrastImage_\"+model_name + \"_\" + str(epoch_number) + \".h5\")"
      ],
      "metadata": {
        "id": "oGw9xBI--V98"
      },
      "execution_count": null,
      "outputs": []
    },
    {
      "cell_type": "markdown",
      "source": [
        "# ResNet - 50"
      ],
      "metadata": {
        "id": "KHYs02KW6rl_"
      }
    },
    {
      "cell_type": "code",
      "source": [
        "model_name='ResNet50'\n",
        "base_model=tf.keras.applications.ResNet50(include_top=False, weights=\"imagenet\",input_shape=images_size, pooling='max') \n",
        "x=base_model.output\n",
        "x=keras.layers.BatchNormalization(axis=-1, momentum=0.99, epsilon=0.001 )(x)\n",
        "x = Dense(256, kernel_regularizer = regularizers.l2(l = 0.016),activity_regularizer=regularizers.l1(0.006),\n",
        "                bias_regularizer=regularizers.l1(0.006) ,activation='relu')(x)\n",
        "x=Dropout(rate=.45, seed=123)(x)        \n",
        "output=Dense(4, activation='softmax')(x)\n",
        "model=Model(inputs=base_model.input, outputs=output)\n",
        "model.compile(Adamax(learning_rate=.001), loss='categorical_crossentropy', metrics=['accuracy']) \n",
        "\n",
        "checkpoint_path = model_name + \"_training_\" + str(epoch_number) + \"_epochs/cp.ckpt\"\n",
        "checkpoint_dir = os.path.dirname(checkpoint_path)\n",
        "\n",
        "cp_callback = tf.keras.callbacks.ModelCheckpoint(filepath=checkpoint_path,\n",
        "                                                 save_weights_only=True,\n",
        "                                                 verbose=1)\n",
        "\n",
        "checkpoint = keras.callbacks.ModelCheckpoint(\"best_model\", save_best_only=True)\n",
        "stop_early = keras.callbacks.EarlyStopping(monitor='val_loss', patience=5)\n",
        "\n",
        "history = model.fit(train_images, train_labels, epochs=epoch_number, validation_data=(val_images, val_labels), callbacks=[stop_early, cp_callback])\n",
        "\n",
        "test_loss, test_accuracy = model.evaluate(test_images, test_labels, verbose=2)\n",
        "print(test_loss, test_accuracy)\n",
        "\n",
        "pred = model.predict(test_images)\n",
        "pred = np.argmax(pred, axis=1)\n",
        "testLabels_new = np.argmax(test_labels, axis=1)\n",
        "\n",
        "print(classification_report(testLabels_new,pred))\n",
        "cm = confusion_matrix(testLabels_new, pred)\n",
        "print(cm)\n",
        "\n",
        "print(cm.diagonal()/cm.sum(axis=1))\n",
        "\n",
        "plt.plot(history.history['accuracy'], label='Accuracy')\n",
        "plt.plot(history.history['val_accuracy'], label=\"Val Accuracy\")\n",
        "plt.plot(history.history['loss'], label='Loss')\n",
        "plt.plot(history.history['val_loss'], label=\"Val Loss\")\n",
        "plt.xlabel('Epoch')\n",
        "plt.ylabel('Accuracy & Loss')\n",
        "ax = plt.subplot(111)\n",
        "ax.legend(loc='upper center', bbox_to_anchor=(1.5,0.5),\n",
        "          ncol=3, fancybox=True, shadow=True)\n",
        "\n",
        "model.save(model_name + \"_\" + str(epoch_number) + \".h5\")"
      ],
      "metadata": {
        "id": "tmlbuHR8_v57",
        "colab": {
          "base_uri": "https://localhost:8080/",
          "height": 1000
        },
        "outputId": "007de6ba-dabd-409b-8264-6f9268514c4b"
      },
      "execution_count": null,
      "outputs": [
        {
          "output_type": "stream",
          "name": "stdout",
          "text": [
            "Downloading data from https://storage.googleapis.com/tensorflow/keras-applications/resnet/resnet50_weights_tf_dim_ordering_tf_kernels_notop.h5\n",
            "94765736/94765736 [==============================] - 1s 0us/step\n",
            "Epoch 1/20\n",
            "715/715 [==============================] - ETA: 0s - loss: 3.7400 - accuracy: 0.9045\n",
            "Epoch 1: saving model to ResNet50_training_20_epochs/cp.ckpt\n",
            "715/715 [==============================] - 111s 130ms/step - loss: 3.7400 - accuracy: 0.9045 - val_loss: 1.4249 - val_accuracy: 0.9452\n",
            "Epoch 2/20\n",
            "715/715 [==============================] - ETA: 0s - loss: 0.7481 - accuracy: 0.9680\n",
            "Epoch 2: saving model to ResNet50_training_20_epochs/cp.ckpt\n",
            "715/715 [==============================] - 91s 128ms/step - loss: 0.7481 - accuracy: 0.9680 - val_loss: 0.3891 - val_accuracy: 0.9653\n",
            "Epoch 3/20\n",
            "715/715 [==============================] - ETA: 0s - loss: 0.3153 - accuracy: 0.9724\n",
            "Epoch 3: saving model to ResNet50_training_20_epochs/cp.ckpt\n",
            "715/715 [==============================] - 94s 132ms/step - loss: 0.3153 - accuracy: 0.9724 - val_loss: 0.2679 - val_accuracy: 0.9648\n",
            "Epoch 4/20\n",
            "715/715 [==============================] - ETA: 0s - loss: 0.2250 - accuracy: 0.9791\n",
            "Epoch 4: saving model to ResNet50_training_20_epochs/cp.ckpt\n",
            "715/715 [==============================] - 95s 133ms/step - loss: 0.2250 - accuracy: 0.9791 - val_loss: 0.2052 - val_accuracy: 0.9789\n",
            "Epoch 5/20\n",
            "715/715 [==============================] - ETA: 0s - loss: 0.1784 - accuracy: 0.9857\n",
            "Epoch 5: saving model to ResNet50_training_20_epochs/cp.ckpt\n",
            "715/715 [==============================] - 95s 132ms/step - loss: 0.1784 - accuracy: 0.9857 - val_loss: 0.1925 - val_accuracy: 0.9722\n",
            "Epoch 6/20\n",
            "715/715 [==============================] - ETA: 0s - loss: 0.1602 - accuracy: 0.9875\n",
            "Epoch 6: saving model to ResNet50_training_20_epochs/cp.ckpt\n",
            "715/715 [==============================] - 95s 133ms/step - loss: 0.1602 - accuracy: 0.9875 - val_loss: 0.1872 - val_accuracy: 0.9752\n",
            "Epoch 7/20\n",
            "715/715 [==============================] - ETA: 0s - loss: 0.1407 - accuracy: 0.9899\n",
            "Epoch 7: saving model to ResNet50_training_20_epochs/cp.ckpt\n",
            "715/715 [==============================] - 95s 133ms/step - loss: 0.1407 - accuracy: 0.9899 - val_loss: 0.3134 - val_accuracy: 0.9281\n",
            "Epoch 8/20\n",
            "715/715 [==============================] - ETA: 0s - loss: 0.1233 - accuracy: 0.9925\n",
            "Epoch 8: saving model to ResNet50_training_20_epochs/cp.ckpt\n",
            "715/715 [==============================] - 95s 133ms/step - loss: 0.1233 - accuracy: 0.9925 - val_loss: 0.1365 - val_accuracy: 0.9849\n",
            "Epoch 9/20\n",
            "715/715 [==============================] - ETA: 0s - loss: 0.1134 - accuracy: 0.9937\n",
            "Epoch 9: saving model to ResNet50_training_20_epochs/cp.ckpt\n",
            "715/715 [==============================] - 94s 132ms/step - loss: 0.1134 - accuracy: 0.9937 - val_loss: 0.1316 - val_accuracy: 0.9864\n",
            "Epoch 10/20\n",
            "715/715 [==============================] - ETA: 0s - loss: 0.1058 - accuracy: 0.9938\n",
            "Epoch 10: saving model to ResNet50_training_20_epochs/cp.ckpt\n",
            "715/715 [==============================] - 95s 132ms/step - loss: 0.1058 - accuracy: 0.9938 - val_loss: 0.1411 - val_accuracy: 0.9859\n",
            "Epoch 11/20\n",
            "715/715 [==============================] - ETA: 0s - loss: 0.1010 - accuracy: 0.9938\n",
            "Epoch 11: saving model to ResNet50_training_20_epochs/cp.ckpt\n",
            "715/715 [==============================] - 94s 131ms/step - loss: 0.1010 - accuracy: 0.9938 - val_loss: 0.1169 - val_accuracy: 0.9891\n",
            "Epoch 12/20\n",
            "715/715 [==============================] - ETA: 0s - loss: 0.0980 - accuracy: 0.9946\n",
            "Epoch 12: saving model to ResNet50_training_20_epochs/cp.ckpt\n",
            "715/715 [==============================] - 94s 131ms/step - loss: 0.0980 - accuracy: 0.9946 - val_loss: 0.2054 - val_accuracy: 0.9762\n",
            "Epoch 13/20\n",
            "715/715 [==============================] - ETA: 0s - loss: 0.0847 - accuracy: 0.9965\n",
            "Epoch 13: saving model to ResNet50_training_20_epochs/cp.ckpt\n",
            "715/715 [==============================] - 94s 131ms/step - loss: 0.0847 - accuracy: 0.9965 - val_loss: 0.1164 - val_accuracy: 0.9854\n",
            "Epoch 14/20\n",
            "715/715 [==============================] - ETA: 0s - loss: 0.0830 - accuracy: 0.9966\n",
            "Epoch 14: saving model to ResNet50_training_20_epochs/cp.ckpt\n",
            "715/715 [==============================] - 93s 131ms/step - loss: 0.0830 - accuracy: 0.9966 - val_loss: 0.1294 - val_accuracy: 0.9804\n",
            "Epoch 15/20\n",
            "715/715 [==============================] - ETA: 0s - loss: 0.0944 - accuracy: 0.9940\n",
            "Epoch 15: saving model to ResNet50_training_20_epochs/cp.ckpt\n",
            "715/715 [==============================] - 95s 133ms/step - loss: 0.0944 - accuracy: 0.9940 - val_loss: 0.2498 - val_accuracy: 0.9663\n",
            "Epoch 16/20\n",
            "715/715 [==============================] - ETA: 0s - loss: 0.0851 - accuracy: 0.9952\n",
            "Epoch 16: saving model to ResNet50_training_20_epochs/cp.ckpt\n",
            "715/715 [==============================] - 94s 131ms/step - loss: 0.0851 - accuracy: 0.9952 - val_loss: 0.1905 - val_accuracy: 0.9571\n",
            "Epoch 17/20\n",
            "715/715 [==============================] - ETA: 0s - loss: 0.0797 - accuracy: 0.9958\n",
            "Epoch 17: saving model to ResNet50_training_20_epochs/cp.ckpt\n",
            "715/715 [==============================] - 94s 131ms/step - loss: 0.0797 - accuracy: 0.9958 - val_loss: 0.1103 - val_accuracy: 0.9879\n",
            "Epoch 18/20\n",
            "715/715 [==============================] - ETA: 0s - loss: 0.0768 - accuracy: 0.9965\n",
            "Epoch 18: saving model to ResNet50_training_20_epochs/cp.ckpt\n",
            "715/715 [==============================] - 94s 131ms/step - loss: 0.0768 - accuracy: 0.9965 - val_loss: 0.1071 - val_accuracy: 0.9854\n",
            "Epoch 19/20\n",
            "715/715 [==============================] - ETA: 0s - loss: 0.0788 - accuracy: 0.9956\n",
            "Epoch 19: saving model to ResNet50_training_20_epochs/cp.ckpt\n",
            "715/715 [==============================] - 95s 132ms/step - loss: 0.0788 - accuracy: 0.9956 - val_loss: 0.5512 - val_accuracy: 0.8818\n",
            "Epoch 20/20\n",
            "715/715 [==============================] - ETA: 0s - loss: 0.0726 - accuracy: 0.9965\n",
            "Epoch 20: saving model to ResNet50_training_20_epochs/cp.ckpt\n",
            "715/715 [==============================] - 95s 133ms/step - loss: 0.0726 - accuracy: 0.9965 - val_loss: 0.0904 - val_accuracy: 0.9906\n",
            "149/149 - 6s - loss: 0.1067 - accuracy: 0.9869 - 6s/epoch - 38ms/step\n",
            "0.10673675686120987 0.9869363903999329\n",
            "149/149 [==============================] - 6s 32ms/step\n",
            "              precision    recall  f1-score   support\n",
            "\n",
            "           0       0.99      0.99      0.99      1725\n",
            "           1       0.98      0.98      0.98      1214\n",
            "           2       0.99      1.00      0.99      1428\n",
            "           3       0.98      0.99      0.99       379\n",
            "\n",
            "    accuracy                           0.99      4746\n",
            "   macro avg       0.99      0.99      0.99      4746\n",
            "weighted avg       0.99      0.99      0.99      4746\n",
            "\n",
            "[[1702   15    3    5]\n",
            " [  13 1186   14    1]\n",
            " [   1    5 1422    0]\n",
            " [   4    0    1  374]]\n",
            "[0.98666667 0.97693575 0.99579832 0.98680739]\n"
          ]
        },
        {
          "output_type": "display_data",
          "data": {
            "text/plain": [
              "<Figure size 432x288 with 1 Axes>"
            ],
            "image/png": "[encoded data removed]"
          },
          "metadata": {}
        }
      ]
    },
    {
      "cell_type": "markdown",
      "source": [
        "# InceptionV3"
      ],
      "metadata": {
        "id": "1pqg2UyDE47F"
      }
    },
    {
      "cell_type": "code",
      "source": [
        "model_name='InceptionV3'\n",
        "base_model=tf.keras.applications.InceptionV3(include_top=False, weights=\"imagenet\",input_shape=images_size, pooling='max') \n",
        "x=base_model.output\n",
        "x=keras.layers.BatchNormalization(axis=-1, momentum=0.99, epsilon=0.001 )(x)\n",
        "x = Dense(256, kernel_regularizer = regularizers.l2(l = 0.016),activity_regularizer=regularizers.l1(0.006),\n",
        "                bias_regularizer=regularizers.l1(0.006) ,activation='relu')(x)\n",
        "x=Dropout(rate=.45, seed=123)(x)        \n",
        "output=Dense(4, activation='softmax')(x)\n",
        "model=Model(inputs=base_model.input, outputs=output)\n",
        "model.compile(Adamax(learning_rate=.001), loss='categorical_crossentropy', metrics=['accuracy']) \n",
        "\n",
        "checkpoint_path = model_name + \"_training_\" + str(epoch_number) + \"_epochs/cp.ckpt\"\n",
        "checkpoint_dir = os.path.dirname(checkpoint_path)\n",
        "\n",
        "cp_callback = tf.keras.callbacks.ModelCheckpoint(filepath=checkpoint_path,\n",
        "                                                 save_weights_only=True,\n",
        "                                                 verbose=1)\n",
        "\n",
        "checkpoint = keras.callbacks.ModelCheckpoint(\"best_model\", save_best_only=True)\n",
        "stop_early = keras.callbacks.EarlyStopping(monitor='val_loss', patience=5)\n",
        "\n",
        "history = model.fit(train_images, train_labels, epochs=epoch_number, validation_data=(val_images, val_labels), callbacks=[stop_early, cp_callback])\n",
        "\n",
        "test_loss, test_accuracy = model.evaluate(test_images, test_labels, verbose=2)\n",
        "print(test_loss, test_accuracy)\n",
        "\n",
        "pred = model.predict(test_images)\n",
        "pred = np.argmax(pred, axis=1)\n",
        "testLabels_new = np.argmax(test_labels, axis=1)\n",
        "\n",
        "print(classification_report(testLabels_new,pred))\n",
        "cm = confusion_matrix(testLabels_new, pred)\n",
        "print(cm)\n",
        "\n",
        "print(cm.diagonal()/cm.sum(axis=1))\n",
        "\n",
        "plt.plot(history.history['accuracy'], label='Accuracy')\n",
        "plt.plot(history.history['val_accuracy'], label=\"Val Accuracy\")\n",
        "plt.plot(history.history['loss'], label='Loss')\n",
        "plt.plot(history.history['val_loss'], label=\"Val Loss\")\n",
        "plt.xlabel('Epoch')\n",
        "plt.ylabel('Accuracy & Loss')\n",
        "ax = plt.subplot(111)\n",
        "ax.legend(loc='upper center', bbox_to_anchor=(1.5,0.5),\n",
        "          ncol=3, fancybox=True, shadow=True)\n",
        "\n",
        "model.save(model_name + \"_\" + str(epoch_number) + \".h5\")"
      ],
      "metadata": {
        "colab": {
          "base_uri": "https://localhost:8080/",
          "height": 1000
        },
        "id": "zpFBgzze7lfC",
        "outputId": "8050cd1e-aece-4705-a4d2-d37a6302043e"
      },
      "execution_count": null,
      "outputs": [
        {
          "output_type": "stream",
          "name": "stdout",
          "text": [
            "Epoch 1/20\n",
            "715/715 [==============================] - ETA: 0s - loss: 4.8646 - accuracy: 0.8448\n",
            "Epoch 1: saving model to InceptionV3_training_20_epochs/cp.ckpt\n",
            "715/715 [==============================] - 94s 104ms/step - loss: 4.8646 - accuracy: 0.8448 - val_loss: 5.6232 - val_accuracy: 0.9014\n",
            "Epoch 2/20\n",
            "715/715 [==============================] - ETA: 0s - loss: 1.4819 - accuracy: 0.9389\n",
            "Epoch 2: saving model to InceptionV3_training_20_epochs/cp.ckpt\n",
            "715/715 [==============================] - 70s 98ms/step - loss: 1.4819 - accuracy: 0.9389 - val_loss: 0.8004 - val_accuracy: 0.9623\n",
            "Epoch 3/20\n",
            "715/715 [==============================] - ETA: 0s - loss: 0.5514 - accuracy: 0.9483\n",
            "Epoch 3: saving model to InceptionV3_training_20_epochs/cp.ckpt\n",
            "715/715 [==============================] - 73s 102ms/step - loss: 0.5514 - accuracy: 0.9483 - val_loss: 0.5682 - val_accuracy: 0.9086\n",
            "Epoch 4/20\n",
            "715/715 [==============================] - ETA: 0s - loss: 0.2989 - accuracy: 0.9670\n",
            "Epoch 4: saving model to InceptionV3_training_20_epochs/cp.ckpt\n",
            "715/715 [==============================] - 73s 102ms/step - loss: 0.2989 - accuracy: 0.9670 - val_loss: 0.1968 - val_accuracy: 0.9831\n",
            "Epoch 5/20\n",
            "715/715 [==============================] - ETA: 0s - loss: 0.1850 - accuracy: 0.9850\n",
            "Epoch 5: saving model to InceptionV3_training_20_epochs/cp.ckpt\n",
            "715/715 [==============================] - 72s 100ms/step - loss: 0.1850 - accuracy: 0.9850 - val_loss: 0.2270 - val_accuracy: 0.9834\n",
            "Epoch 6/20\n",
            "715/715 [==============================] - ETA: 0s - loss: 0.1819 - accuracy: 0.9788\n",
            "Epoch 6: saving model to InceptionV3_training_20_epochs/cp.ckpt\n",
            "715/715 [==============================] - 72s 100ms/step - loss: 0.1819 - accuracy: 0.9788 - val_loss: 0.5801 - val_accuracy: 0.9574\n",
            "Epoch 7/20\n",
            "715/715 [==============================] - ETA: 0s - loss: 0.1471 - accuracy: 0.9887\n",
            "Epoch 7: saving model to InceptionV3_training_20_epochs/cp.ckpt\n",
            "715/715 [==============================] - 73s 102ms/step - loss: 0.1471 - accuracy: 0.9887 - val_loss: 0.1290 - val_accuracy: 0.9859\n",
            "Epoch 8/20\n",
            "715/715 [==============================] - ETA: 0s - loss: 0.1683 - accuracy: 0.9763\n",
            "Epoch 8: saving model to InceptionV3_training_20_epochs/cp.ckpt\n",
            "715/715 [==============================] - 72s 101ms/step - loss: 0.1683 - accuracy: 0.9763 - val_loss: 0.2330 - val_accuracy: 0.9898\n",
            "Epoch 9/20\n",
            "715/715 [==============================] - ETA: 0s - loss: 0.1325 - accuracy: 0.9912\n",
            "Epoch 9: saving model to InceptionV3_training_20_epochs/cp.ckpt\n",
            "715/715 [==============================] - 72s 101ms/step - loss: 0.1325 - accuracy: 0.9912 - val_loss: 0.1882 - val_accuracy: 0.9906\n",
            "Epoch 10/20\n",
            "715/715 [==============================] - ETA: 0s - loss: 0.1202 - accuracy: 0.9917\n",
            "Epoch 10: saving model to InceptionV3_training_20_epochs/cp.ckpt\n",
            "715/715 [==============================] - 72s 101ms/step - loss: 0.1202 - accuracy: 0.9917 - val_loss: 0.0993 - val_accuracy: 0.9896\n",
            "Epoch 11/20\n",
            "715/715 [==============================] - ETA: 0s - loss: 0.1106 - accuracy: 0.9928\n",
            "Epoch 11: saving model to InceptionV3_training_20_epochs/cp.ckpt\n",
            "715/715 [==============================] - 72s 101ms/step - loss: 0.1106 - accuracy: 0.9928 - val_loss: 0.1217 - val_accuracy: 0.9869\n",
            "Epoch 12/20\n",
            "715/715 [==============================] - ETA: 0s - loss: 0.1035 - accuracy: 0.9930\n",
            "Epoch 12: saving model to InceptionV3_training_20_epochs/cp.ckpt\n",
            "715/715 [==============================] - 72s 101ms/step - loss: 0.1035 - accuracy: 0.9930 - val_loss: 0.1214 - val_accuracy: 0.9903\n",
            "Epoch 13/20\n",
            "715/715 [==============================] - ETA: 0s - loss: 0.0983 - accuracy: 0.9939\n",
            "Epoch 13: saving model to InceptionV3_training_20_epochs/cp.ckpt\n",
            "715/715 [==============================] - 73s 102ms/step - loss: 0.0983 - accuracy: 0.9939 - val_loss: 2.1584 - val_accuracy: 0.9400\n",
            "Epoch 14/20\n",
            "715/715 [==============================] - ETA: 0s - loss: 0.1116 - accuracy: 0.9906\n",
            "Epoch 14: saving model to InceptionV3_training_20_epochs/cp.ckpt\n",
            "715/715 [==============================] - 73s 101ms/step - loss: 0.1116 - accuracy: 0.9906 - val_loss: 0.1257 - val_accuracy: 0.9854\n",
            "Epoch 15/20\n",
            "715/715 [==============================] - ETA: 0s - loss: 0.0874 - accuracy: 0.9948\n",
            "Epoch 15: saving model to InceptionV3_training_20_epochs/cp.ckpt\n",
            "715/715 [==============================] - 72s 101ms/step - loss: 0.0874 - accuracy: 0.9948 - val_loss: 0.1655 - val_accuracy: 0.9849\n",
            "149/149 - 5s - loss: 0.1559 - accuracy: 0.9834 - 5s/epoch - 35ms/step\n",
            "0.15589669346809387 0.983354389667511\n",
            "149/149 [==============================] - 6s 28ms/step\n",
            "              precision    recall  f1-score   support\n",
            "\n",
            "           0       0.98      0.98      0.98      1725\n",
            "           1       0.99      0.98      0.98      1214\n",
            "           2       0.98      0.99      0.99      1428\n",
            "           3       0.99      0.98      0.99       379\n",
            "\n",
            "    accuracy                           0.98      4746\n",
            "   macro avg       0.99      0.98      0.98      4746\n",
            "weighted avg       0.98      0.98      0.98      4746\n",
            "\n",
            "[[1696    7   19    3]\n",
            " [  23 1185    6    0]\n",
            " [   5   10 1413    0]\n",
            " [   3    1    2  373]]\n",
            "[0.98318841 0.97611203 0.9894958  0.98416887]\n"
          ]
        },
        {
          "output_type": "display_data",
          "data": {
            "text/plain": [
              "<Figure size 432x288 with 1 Axes>"
            ],
            "image/png": "[encoded data removed]"
          },
          "metadata": {}
        }
      ]
    },
    {
      "cell_type": "code",
      "source": [],
      "metadata": {
        "id": "I5SoufK3E_30"
      },
      "execution_count": null,
      "outputs": []
    },
    {
      "cell_type": "markdown",
      "source": [
        "# DenseNet"
      ],
      "metadata": {
        "id": "IErpeNN7Lhh1"
      }
    },
    {
      "cell_type": "code",
      "source": [
        "model_name='DenseNet121'\n",
        "base_model=tf.keras.applications.DenseNet121(include_top=False, weights=\"imagenet\",input_shape=images_size, pooling='max') \n",
        "x=base_model.output\n",
        "x=keras.layers.BatchNormalization(axis=-1, momentum=0.99, epsilon=0.001 )(x)\n",
        "x = Dense(256, kernel_regularizer = regularizers.l2(l = 0.016),activity_regularizer=regularizers.l1(0.006),\n",
        "                bias_regularizer=regularizers.l1(0.006) ,activation='relu')(x)\n",
        "x=Dropout(rate=.45, seed=123)(x)        \n",
        "output=Dense(4, activation='softmax')(x)\n",
        "model=Model(inputs=base_model.input, outputs=output)\n",
        "model.compile(Adamax(learning_rate=.001), loss='categorical_crossentropy', metrics=['accuracy']) \n",
        "\n",
        "checkpoint_path = model_name + \"_training_\" + str(epoch_number) + \"_epochs/cp.ckpt\"\n",
        "checkpoint_dir = os.path.dirname(checkpoint_path)\n",
        "\n",
        "cp_callback = tf.keras.callbacks.ModelCheckpoint(filepath=checkpoint_path,\n",
        "                                                 save_weights_only=True,\n",
        "                                                 verbose=1)\n",
        "\n",
        "checkpoint = keras.callbacks.ModelCheckpoint(\"best_model\", save_best_only=True)\n",
        "stop_early = keras.callbacks.EarlyStopping(monitor='val_loss', patience=5)\n",
        "\n",
        "history = model.fit(train_images, train_labels, epochs=epoch_number, validation_data=(val_images, val_labels), callbacks=[stop_early, cp_callback])\n",
        "\n",
        "test_loss, test_accuracy = model.evaluate(test_images, test_labels, verbose=2)\n",
        "print(test_loss, test_accuracy)\n",
        "\n",
        "pred = model.predict(test_images)\n",
        "pred = np.argmax(pred, axis=1)\n",
        "testLabels_new = np.argmax(test_labels, axis=1)\n",
        "\n",
        "print(classification_report(testLabels_new,pred))\n",
        "cm = confusion_matrix(testLabels_new, pred)\n",
        "print(cm)\n",
        "\n",
        "print(cm.diagonal()/cm.sum(axis=1))\n",
        "\n",
        "plt.plot(history.history['accuracy'], label='Accuracy')\n",
        "plt.plot(history.history['val_accuracy'], label=\"Val Accuracy\")\n",
        "plt.plot(history.history['loss'], label='Loss')\n",
        "plt.plot(history.history['val_loss'], label=\"Val Loss\")\n",
        "plt.xlabel('Epoch')\n",
        "plt.ylabel('Accuracy & Loss')\n",
        "ax = plt.subplot(111)\n",
        "ax.legend(loc='upper center', bbox_to_anchor=(1.5,0.5),\n",
        "          ncol=3, fancybox=True, shadow=True)\n",
        "\n",
        "model.save(model_name + \"_\" + str(epoch_number) + \".h5\")"
      ],
      "metadata": {
        "colab": {
          "base_uri": "https://localhost:8080/",
          "height": 1000
        },
        "id": "FDqCeJy3LjFm",
        "outputId": "dc13a7a3-bc11-4303-b967-65ff760d0c9f"
      },
      "execution_count": null,
      "outputs": [
        {
          "output_type": "stream",
          "name": "stdout",
          "text": [
            "Epoch 1/20\n",
            "715/715 [==============================] - ETA: 0s - loss: 2.3281 - accuracy: 0.9105\n",
            "Epoch 1: saving model to DenseNet121_training_20_epochs/cp.ckpt\n",
            "715/715 [==============================] - 124s 138ms/step - loss: 2.3281 - accuracy: 0.9105 - val_loss: 0.7213 - val_accuracy: 0.9708\n",
            "Epoch 2/20\n",
            "715/715 [==============================] - ETA: 0s - loss: 0.4425 - accuracy: 0.9666\n",
            "Epoch 2: saving model to DenseNet121_training_20_epochs/cp.ckpt\n",
            "715/715 [==============================] - 97s 136ms/step - loss: 0.4425 - accuracy: 0.9666 - val_loss: 0.3222 - val_accuracy: 0.9556\n",
            "Epoch 3/20\n",
            "715/715 [==============================] - ETA: 0s - loss: 0.2354 - accuracy: 0.9759\n",
            "Epoch 3: saving model to DenseNet121_training_20_epochs/cp.ckpt\n",
            "715/715 [==============================] - 97s 136ms/step - loss: 0.2354 - accuracy: 0.9759 - val_loss: 0.2603 - val_accuracy: 0.9529\n",
            "Epoch 4/20\n",
            "715/715 [==============================] - ETA: 0s - loss: 0.1840 - accuracy: 0.9811\n",
            "Epoch 4: saving model to DenseNet121_training_20_epochs/cp.ckpt\n",
            "715/715 [==============================] - 97s 135ms/step - loss: 0.1840 - accuracy: 0.9811 - val_loss: 0.1553 - val_accuracy: 0.9851\n",
            "Epoch 5/20\n",
            "715/715 [==============================] - ETA: 0s - loss: 0.1495 - accuracy: 0.9878\n",
            "Epoch 5: saving model to DenseNet121_training_20_epochs/cp.ckpt\n",
            "715/715 [==============================] - 98s 137ms/step - loss: 0.1495 - accuracy: 0.9878 - val_loss: 0.1454 - val_accuracy: 0.9846\n",
            "Epoch 6/20\n",
            "715/715 [==============================] - ETA: 0s - loss: 0.1331 - accuracy: 0.9897\n",
            "Epoch 6: saving model to DenseNet121_training_20_epochs/cp.ckpt\n",
            "715/715 [==============================] - 98s 136ms/step - loss: 0.1331 - accuracy: 0.9897 - val_loss: 0.1408 - val_accuracy: 0.9824\n",
            "Epoch 7/20\n",
            "715/715 [==============================] - ETA: 0s - loss: 0.1098 - accuracy: 0.9939\n",
            "Epoch 7: saving model to DenseNet121_training_20_epochs/cp.ckpt\n",
            "715/715 [==============================] - 96s 135ms/step - loss: 0.1098 - accuracy: 0.9939 - val_loss: 0.1187 - val_accuracy: 0.9856\n",
            "Epoch 8/20\n",
            "715/715 [==============================] - ETA: 0s - loss: 0.1028 - accuracy: 0.9934\n",
            "Epoch 8: saving model to DenseNet121_training_20_epochs/cp.ckpt\n",
            "715/715 [==============================] - 96s 134ms/step - loss: 0.1028 - accuracy: 0.9934 - val_loss: 0.1282 - val_accuracy: 0.9814\n",
            "Epoch 9/20\n",
            "715/715 [==============================] - ETA: 0s - loss: 0.0905 - accuracy: 0.9954\n",
            "Epoch 9: saving model to DenseNet121_training_20_epochs/cp.ckpt\n",
            "715/715 [==============================] - 96s 134ms/step - loss: 0.0905 - accuracy: 0.9954 - val_loss: 0.1055 - val_accuracy: 0.9871\n",
            "Epoch 10/20\n",
            "715/715 [==============================] - ETA: 0s - loss: 0.0875 - accuracy: 0.9950\n",
            "Epoch 10: saving model to DenseNet121_training_20_epochs/cp.ckpt\n",
            "715/715 [==============================] - 97s 135ms/step - loss: 0.0875 - accuracy: 0.9950 - val_loss: 0.1480 - val_accuracy: 0.9799\n",
            "Epoch 11/20\n",
            "715/715 [==============================] - ETA: 0s - loss: 0.0808 - accuracy: 0.9963\n",
            "Epoch 11: saving model to DenseNet121_training_20_epochs/cp.ckpt\n",
            "715/715 [==============================] - 96s 134ms/step - loss: 0.0808 - accuracy: 0.9963 - val_loss: 0.0994 - val_accuracy: 0.9896\n",
            "Epoch 12/20\n",
            "715/715 [==============================] - ETA: 0s - loss: 0.0764 - accuracy: 0.9959\n",
            "Epoch 12: saving model to DenseNet121_training_20_epochs/cp.ckpt\n",
            "715/715 [==============================] - 96s 135ms/step - loss: 0.0764 - accuracy: 0.9959 - val_loss: 0.0975 - val_accuracy: 0.9879\n",
            "Epoch 13/20\n",
            "715/715 [==============================] - ETA: 0s - loss: 0.0722 - accuracy: 0.9967\n",
            "Epoch 13: saving model to DenseNet121_training_20_epochs/cp.ckpt\n",
            "715/715 [==============================] - 96s 135ms/step - loss: 0.0722 - accuracy: 0.9967 - val_loss: 0.0929 - val_accuracy: 0.9876\n",
            "Epoch 14/20\n",
            "715/715 [==============================] - ETA: 0s - loss: 0.0655 - accuracy: 0.9976\n",
            "Epoch 14: saving model to DenseNet121_training_20_epochs/cp.ckpt\n",
            "715/715 [==============================] - 96s 134ms/step - loss: 0.0655 - accuracy: 0.9976 - val_loss: 0.0732 - val_accuracy: 0.9933\n",
            "Epoch 15/20\n",
            "715/715 [==============================] - ETA: 0s - loss: 0.0651 - accuracy: 0.9969\n",
            "Epoch 15: saving model to DenseNet121_training_20_epochs/cp.ckpt\n",
            "715/715 [==============================] - 96s 134ms/step - loss: 0.0651 - accuracy: 0.9969 - val_loss: 0.0914 - val_accuracy: 0.9851\n",
            "Epoch 16/20\n",
            "715/715 [==============================] - ETA: 0s - loss: 0.0658 - accuracy: 0.9959\n",
            "Epoch 16: saving model to DenseNet121_training_20_epochs/cp.ckpt\n",
            "715/715 [==============================] - 96s 135ms/step - loss: 0.0658 - accuracy: 0.9959 - val_loss: 0.0670 - val_accuracy: 0.9936\n",
            "Epoch 17/20\n",
            "715/715 [==============================] - ETA: 0s - loss: 0.0568 - accuracy: 0.9983\n",
            "Epoch 17: saving model to DenseNet121_training_20_epochs/cp.ckpt\n",
            "715/715 [==============================] - 96s 135ms/step - loss: 0.0568 - accuracy: 0.9983 - val_loss: 0.0736 - val_accuracy: 0.9903\n",
            "Epoch 18/20\n",
            "715/715 [==============================] - ETA: 0s - loss: 0.0602 - accuracy: 0.9969\n",
            "Epoch 18: saving model to DenseNet121_training_20_epochs/cp.ckpt\n",
            "715/715 [==============================] - 97s 135ms/step - loss: 0.0602 - accuracy: 0.9969 - val_loss: 0.0712 - val_accuracy: 0.9943\n",
            "Epoch 19/20\n",
            "715/715 [==============================] - ETA: 0s - loss: 0.0558 - accuracy: 0.9977\n",
            "Epoch 19: saving model to DenseNet121_training_20_epochs/cp.ckpt\n",
            "715/715 [==============================] - 97s 136ms/step - loss: 0.0558 - accuracy: 0.9977 - val_loss: 0.0574 - val_accuracy: 0.9931\n",
            "Epoch 20/20\n",
            "715/715 [==============================] - ETA: 0s - loss: 0.0571 - accuracy: 0.9969\n",
            "Epoch 20: saving model to DenseNet121_training_20_epochs/cp.ckpt\n",
            "715/715 [==============================] - 96s 134ms/step - loss: 0.0571 - accuracy: 0.9969 - val_loss: 0.1066 - val_accuracy: 0.9814\n",
            "149/149 - 5s - loss: 0.0928 - accuracy: 0.9855 - 5s/epoch - 37ms/step\n",
            "0.09280882775783539 0.985461413860321\n",
            "149/149 [==============================] - 7s 33ms/step\n",
            "              precision    recall  f1-score   support\n",
            "\n",
            "           0       0.99      0.99      0.99      1725\n",
            "           1       0.97      0.99      0.98      1214\n",
            "           2       1.00      0.97      0.98      1428\n",
            "           3       0.99      1.00      1.00       379\n",
            "\n",
            "    accuracy                           0.99      4746\n",
            "   macro avg       0.99      0.99      0.99      4746\n",
            "weighted avg       0.99      0.99      0.99      4746\n",
            "\n",
            "[[1715   10    0    0]\n",
            " [  10 1197    6    1]\n",
            " [   9   32 1386    1]\n",
            " [   0    0    0  379]]\n",
            "[0.9942029  0.98599671 0.97058824 1.        ]\n"
          ]
        },
        {
          "output_type": "display_data",
          "data": {
            "text/plain": [
              "<Figure size 432x288 with 1 Axes>"
            ],
            "image/png": "[encoded data removed]"
          },
          "metadata": {}
        }
      ]
    },
    {
      "cell_type": "code",
      "source": [],
      "metadata": {
        "id": "VKnqxcpDLnMS"
      },
      "execution_count": null,
      "outputs": []
    },
    {
      "cell_type": "markdown",
      "source": [
        "# MobileNetV2"
      ],
      "metadata": {
        "id": "dR13lRCRUeyz"
      }
    },
    {
      "cell_type": "code",
      "source": [
        "model_name='MobileNetV2'\n",
        "base_model=tf.keras.applications.MobileNetV2(include_top=False, weights=\"imagenet\",input_shape=images_size, pooling='max') \n",
        "x=base_model.output\n",
        "x=keras.layers.BatchNormalization(axis=-1, momentum=0.99, epsilon=0.001 )(x)\n",
        "x = Dense(256, kernel_regularizer = regularizers.l2(l = 0.016),activity_regularizer=regularizers.l1(0.006),\n",
        "                bias_regularizer=regularizers.l1(0.006) ,activation='relu')(x)\n",
        "x=Dropout(rate=.45, seed=123)(x)        \n",
        "output=Dense(4, activation='softmax')(x)\n",
        "model=Model(inputs=base_model.input, outputs=output)\n",
        "model.compile(Adamax(learning_rate=.001), loss='categorical_crossentropy', metrics=['accuracy']) \n",
        "\n",
        "checkpoint_path = model_name + \"_training_\" + str(epoch_number) + \"_epochs/cp.ckpt\"\n",
        "checkpoint_dir = os.path.dirname(checkpoint_path)\n",
        "\n",
        "cp_callback = tf.keras.callbacks.ModelCheckpoint(filepath=checkpoint_path,\n",
        "                                                 save_weights_only=True,\n",
        "                                                 verbose=1)\n",
        "\n",
        "checkpoint = keras.callbacks.ModelCheckpoint(\"best_model\", save_best_only=True)\n",
        "stop_early = keras.callbacks.EarlyStopping(monitor='val_loss', patience=5)\n",
        "\n",
        "history = model.fit(train_images, train_labels, epochs=epoch_number, validation_data=(val_images, val_labels), callbacks=[stop_early, cp_callback])\n",
        "\n",
        "test_loss, test_accuracy = model.evaluate(test_images, test_labels, verbose=2)\n",
        "print(test_loss, test_accuracy)\n",
        "\n",
        "pred = model.predict(test_images)\n",
        "pred = np.argmax(pred, axis=1)\n",
        "testLabels_new = np.argmax(test_labels, axis=1)\n",
        "\n",
        "print(classification_report(testLabels_new,pred))\n",
        "cm = confusion_matrix(testLabels_new, pred)\n",
        "print(cm)\n",
        "\n",
        "print(cm.diagonal()/cm.sum(axis=1))\n",
        "\n",
        "plt.plot(history.history['accuracy'], label='Accuracy')\n",
        "plt.plot(history.history['val_accuracy'], label=\"Val Accuracy\")\n",
        "plt.plot(history.history['loss'], label='Loss')\n",
        "plt.plot(history.history['val_loss'], label=\"Val Loss\")\n",
        "plt.xlabel('Epoch')\n",
        "plt.ylabel('Accuracy & Loss')\n",
        "ax = plt.subplot(111)\n",
        "ax.legend(loc='upper center', bbox_to_anchor=(1.5,0.5),\n",
        "          ncol=3, fancybox=True, shadow=True)\n",
        "\n",
        "model.save(model_name + \"_\" + str(epoch_number) + \".h5\")"
      ],
      "metadata": {
        "colab": {
          "base_uri": "https://localhost:8080/",
          "height": 1000
        },
        "id": "vLbrFDAZUflX",
        "outputId": "ca894a33-1f15-40d2-c1bc-3607c61ba81e"
      },
      "execution_count": null,
      "outputs": [
        {
          "output_type": "stream",
          "name": "stdout",
          "text": [
            "Downloading data from https://storage.googleapis.com/tensorflow/keras-applications/mobilenet_v2/mobilenet_v2_weights_tf_dim_ordering_tf_kernels_1.0_128_no_top.h5\n",
            "9406464/9406464 [==============================] - 0s 0us/step\n",
            "Epoch 1/20\n",
            "715/715 [==============================] - ETA: 0s - loss: 3.5276 - accuracy: 0.8864\n",
            "Epoch 1: saving model to MobileNetV2_training_20_epochs/cp.ckpt\n",
            "715/715 [==============================] - 68s 74ms/step - loss: 3.5276 - accuracy: 0.8864 - val_loss: 1.7632 - val_accuracy: 0.6800\n",
            "Epoch 2/20\n",
            "714/715 [============================>.] - ETA: 0s - loss: 0.6177 - accuracy: 0.9601\n",
            "Epoch 2: saving model to MobileNetV2_training_20_epochs/cp.ckpt\n",
            "715/715 [==============================] - 50s 70ms/step - loss: 0.6176 - accuracy: 0.9601 - val_loss: 0.8017 - val_accuracy: 0.7817\n",
            "Epoch 3/20\n",
            "714/715 [============================>.] - ETA: 0s - loss: 0.2892 - accuracy: 0.9704\n",
            "Epoch 3: saving model to MobileNetV2_training_20_epochs/cp.ckpt\n",
            "715/715 [==============================] - 50s 70ms/step - loss: 0.2891 - accuracy: 0.9704 - val_loss: 0.4560 - val_accuracy: 0.8885\n",
            "Epoch 4/20\n",
            "714/715 [============================>.] - ETA: 0s - loss: 0.2273 - accuracy: 0.9759\n",
            "Epoch 4: saving model to MobileNetV2_training_20_epochs/cp.ckpt\n",
            "715/715 [==============================] - 50s 70ms/step - loss: 0.2273 - accuracy: 0.9759 - val_loss: 0.6125 - val_accuracy: 0.8297\n",
            "Epoch 5/20\n",
            "714/715 [============================>.] - ETA: 0s - loss: 0.1916 - accuracy: 0.9806\n",
            "Epoch 5: saving model to MobileNetV2_training_20_epochs/cp.ckpt\n",
            "715/715 [==============================] - 51s 71ms/step - loss: 0.1916 - accuracy: 0.9806 - val_loss: 0.1918 - val_accuracy: 0.9717\n",
            "Epoch 6/20\n",
            "715/715 [==============================] - ETA: 0s - loss: 0.1595 - accuracy: 0.9868\n",
            "Epoch 6: saving model to MobileNetV2_training_20_epochs/cp.ckpt\n",
            "715/715 [==============================] - 51s 72ms/step - loss: 0.1595 - accuracy: 0.9868 - val_loss: 0.5235 - val_accuracy: 0.8565\n",
            "Epoch 7/20\n",
            "714/715 [============================>.] - ETA: 0s - loss: 0.1474 - accuracy: 0.9882\n",
            "Epoch 7: saving model to MobileNetV2_training_20_epochs/cp.ckpt\n",
            "715/715 [==============================] - 52s 73ms/step - loss: 0.1474 - accuracy: 0.9882 - val_loss: 0.1738 - val_accuracy: 0.9705\n",
            "Epoch 8/20\n",
            "714/715 [============================>.] - ETA: 0s - loss: 0.1303 - accuracy: 0.9911\n",
            "Epoch 8: saving model to MobileNetV2_training_20_epochs/cp.ckpt\n",
            "715/715 [==============================] - 52s 73ms/step - loss: 0.1303 - accuracy: 0.9911 - val_loss: 0.1781 - val_accuracy: 0.9705\n",
            "Epoch 9/20\n",
            "714/715 [============================>.] - ETA: 0s - loss: 0.1248 - accuracy: 0.9913\n",
            "Epoch 9: saving model to MobileNetV2_training_20_epochs/cp.ckpt\n",
            "715/715 [==============================] - 52s 73ms/step - loss: 0.1248 - accuracy: 0.9913 - val_loss: 0.1460 - val_accuracy: 0.9782\n",
            "Epoch 10/20\n",
            "714/715 [============================>.] - ETA: 0s - loss: 0.1095 - accuracy: 0.9942\n",
            "Epoch 10: saving model to MobileNetV2_training_20_epochs/cp.ckpt\n",
            "715/715 [==============================] - 52s 72ms/step - loss: 0.1095 - accuracy: 0.9942 - val_loss: 0.1208 - val_accuracy: 0.9859\n",
            "Epoch 11/20\n",
            "714/715 [============================>.] - ETA: 0s - loss: 0.1045 - accuracy: 0.9936\n",
            "Epoch 11: saving model to MobileNetV2_training_20_epochs/cp.ckpt\n",
            "715/715 [==============================] - 52s 72ms/step - loss: 0.1045 - accuracy: 0.9936 - val_loss: 0.1114 - val_accuracy: 0.9874\n",
            "Epoch 12/20\n",
            "714/715 [============================>.] - ETA: 0s - loss: 0.1006 - accuracy: 0.9939\n",
            "Epoch 12: saving model to MobileNetV2_training_20_epochs/cp.ckpt\n",
            "715/715 [==============================] - 53s 74ms/step - loss: 0.1006 - accuracy: 0.9939 - val_loss: 0.1001 - val_accuracy: 0.9901\n",
            "Epoch 13/20\n",
            "714/715 [============================>.] - ETA: 0s - loss: 0.0956 - accuracy: 0.9948\n",
            "Epoch 13: saving model to MobileNetV2_training_20_epochs/cp.ckpt\n",
            "715/715 [==============================] - 52s 73ms/step - loss: 0.0956 - accuracy: 0.9948 - val_loss: 0.1658 - val_accuracy: 0.9685\n",
            "Epoch 14/20\n",
            "714/715 [============================>.] - ETA: 0s - loss: 0.0912 - accuracy: 0.9952\n",
            "Epoch 14: saving model to MobileNetV2_training_20_epochs/cp.ckpt\n",
            "715/715 [==============================] - 52s 72ms/step - loss: 0.0913 - accuracy: 0.9951 - val_loss: 0.0930 - val_accuracy: 0.9918\n",
            "Epoch 15/20\n",
            "714/715 [============================>.] - ETA: 0s - loss: 0.0811 - accuracy: 0.9965\n",
            "Epoch 15: saving model to MobileNetV2_training_20_epochs/cp.ckpt\n",
            "715/715 [==============================] - 52s 72ms/step - loss: 0.0811 - accuracy: 0.9965 - val_loss: 0.1015 - val_accuracy: 0.9861\n",
            "Epoch 16/20\n",
            "714/715 [============================>.] - ETA: 0s - loss: 0.0858 - accuracy: 0.9950\n",
            "Epoch 16: saving model to MobileNetV2_training_20_epochs/cp.ckpt\n",
            "715/715 [==============================] - 52s 73ms/step - loss: 0.0858 - accuracy: 0.9950 - val_loss: 0.1011 - val_accuracy: 0.9921\n",
            "Epoch 17/20\n",
            "714/715 [============================>.] - ETA: 0s - loss: 0.0767 - accuracy: 0.9971\n",
            "Epoch 17: saving model to MobileNetV2_training_20_epochs/cp.ckpt\n",
            "715/715 [==============================] - 52s 73ms/step - loss: 0.0767 - accuracy: 0.9971 - val_loss: 0.0898 - val_accuracy: 0.9879\n",
            "Epoch 18/20\n",
            "714/715 [============================>.] - ETA: 0s - loss: 0.0759 - accuracy: 0.9970\n",
            "Epoch 18: saving model to MobileNetV2_training_20_epochs/cp.ckpt\n",
            "715/715 [==============================] - 52s 72ms/step - loss: 0.0759 - accuracy: 0.9970 - val_loss: 0.0788 - val_accuracy: 0.9928\n",
            "Epoch 19/20\n",
            "714/715 [============================>.] - ETA: 0s - loss: 0.0764 - accuracy: 0.9964\n",
            "Epoch 19: saving model to MobileNetV2_training_20_epochs/cp.ckpt\n",
            "715/715 [==============================] - 52s 72ms/step - loss: 0.0765 - accuracy: 0.9964 - val_loss: 0.1162 - val_accuracy: 0.9822\n",
            "Epoch 20/20\n",
            "714/715 [============================>.] - ETA: 0s - loss: 0.0694 - accuracy: 0.9971\n",
            "Epoch 20: saving model to MobileNetV2_training_20_epochs/cp.ckpt\n",
            "715/715 [==============================] - 53s 75ms/step - loss: 0.0694 - accuracy: 0.9971 - val_loss: 0.0786 - val_accuracy: 0.9926\n",
            "149/149 - 2s - loss: 0.0827 - accuracy: 0.9918 - 2s/epoch - 16ms/step\n",
            "0.08265430480241776 0.991782546043396\n",
            "149/149 [==============================] - 3s 13ms/step\n",
            "              precision    recall  f1-score   support\n",
            "\n",
            "           0       0.99      1.00      0.99      1725\n",
            "           1       1.00      0.98      0.99      1214\n",
            "           2       0.99      1.00      0.99      1428\n",
            "           3       0.98      0.99      0.99       379\n",
            "\n",
            "    accuracy                           0.99      4746\n",
            "   macro avg       0.99      0.99      0.99      4746\n",
            "weighted avg       0.99      0.99      0.99      4746\n",
            "\n",
            "[[1719    2    1    3]\n",
            " [  14 1185   10    5]\n",
            " [   0    2 1426    0]\n",
            " [   0    0    2  377]]\n",
            "[0.99652174 0.97611203 0.99859944 0.99472296]\n"
          ]
        },
        {
          "output_type": "display_data",
          "data": {
            "text/plain": [
              "<Figure size 432x288 with 1 Axes>"
            ],
            "image/png": "[encoded data removed]"
          },
          "metadata": {}
        }
      ]
    },
    {
      "cell_type": "code",
      "source": [],
      "metadata": {
        "id": "AMoimfO_VJsG"
      },
      "execution_count": null,
      "outputs": []
    }
  ]
}